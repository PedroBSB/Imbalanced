{
 "cells": [
  {
   "cell_type": "markdown",
   "source": [
    "Lê os dados:"
   ],
   "metadata": {
    "collapsed": false
   }
  },
  {
   "cell_type": "code",
   "execution_count": 1,
   "outputs": [],
   "source": [
    "import pandas as pd\n",
    "df = pd.read_csv(\"Base_Dissertacaov10.csv\",sep=';',decimal=\",\",encoding = \"latin\")\n",
    "# print(df.head())"
   ],
   "metadata": {
    "collapsed": false,
    "pycharm": {
     "name": "#%%\n"
    }
   }
  },
  {
   "cell_type": "code",
   "execution_count": 2,
   "outputs": [],
   "source": [
    "from sklearn import preprocessing\n",
    "from sklearn.model_selection import train_test_split\n",
    "#Cria os dados\n",
    "y = df[\"AUTO\"].to_numpy()\n",
    "X = df.iloc[:,3:-1]\n",
    "X_train, X_test, y_train, y_test = train_test_split(X, y, test_size = 0.4, random_state = 12345)\n",
    "\n",
    "#Padroniza os dados\n",
    "scaler = preprocessing.StandardScaler().fit(X_train)\n",
    "X_train = scaler.transform(X_train)\n",
    "X_test = scaler.transform(X_test)"
   ],
   "metadata": {
    "collapsed": false,
    "pycharm": {
     "name": "#%%\n"
    }
   }
  },
  {
   "cell_type": "markdown",
   "source": [
    "# Random Over Sampler"
   ],
   "metadata": {
    "collapsed": false
   }
  },
  {
   "cell_type": "code",
   "execution_count": 3,
   "outputs": [],
   "source": [
    "from imblearn.over_sampling import RandomOverSampler\n",
    "ros = RandomOverSampler(random_state=12345)\n",
    "X_resampled, y_resampled = ros.fit_resample(X_train, y_train)"
   ],
   "metadata": {
    "collapsed": false,
    "pycharm": {
     "name": "#%%\n"
    }
   }
  },
  {
   "cell_type": "code",
   "execution_count": 4,
   "outputs": [
    {
     "name": "stdout",
     "output_type": "stream",
     "text": [
      " Accuracy Score: 0.9956345494231369\n",
      " Precision Score: [0.99563455 0.        ]\n",
      " Recall Score: [1. 0.]\n"
     ]
    },
    {
     "name": "stderr",
     "output_type": "stream",
     "text": [
      "/Users/pedro/Library/Python/3.7/lib/python/site-packages/sklearn/metrics/_classification.py:1221: UndefinedMetricWarning: Precision is ill-defined and being set to 0.0 in labels with no predicted samples. Use `zero_division` parameter to control this behavior.\n",
      "  _warn_prf(average, modifier, msg_start, len(result))\n"
     ]
    }
   ],
   "source": [
    "from sklearn.linear_model import LogisticRegression\n",
    "from sklearn.metrics import accuracy_score, precision_score, recall_score\n",
    "logreg = LogisticRegression(solver = 'lbfgs', multi_class = 'auto')\n",
    "logreg.fit(X_train, y_train)\n",
    "y_pred = logreg.predict(X_test)\n",
    "print(f' Accuracy Score: {accuracy_score(y_test, y_pred)}')\n",
    "print(f' Precision Score: {precision_score(y_test, y_pred, average = None)}')\n",
    "print(f' Recall Score: {recall_score(y_test, y_pred, average = None)}')\n"
   ],
   "metadata": {
    "collapsed": false,
    "pycharm": {
     "name": "#%%\n"
    }
   }
  },
  {
   "cell_type": "markdown",
   "source": [
    "# Random Over Sampler\n",
    "Copiado de : https://audreymychan.com/unbalancedclasses.html"
   ],
   "metadata": {
    "collapsed": false
   }
  },
  {
   "cell_type": "code",
   "execution_count": 5,
   "outputs": [],
   "source": [
    "# Method to rebalance train data, model a logistic regression, and output charts for predictions on test data\n",
    "# Inputs: X data, y data, rebalance algorithm (i.e. SMOTE()), rebalancing_title as a str (i.e. 'SMOTE')\n",
    "from imblearn.metrics import classification_report_imbalanced, sensitivity_specificity_support,sensitivity_score,specificity_score,geometric_mean_score, make_index_balanced_accuracy\n",
    "def rebalance_train_test_logreg(X, y, rebalance_alg, rebalancing_title, test_size=0.2):\n",
    "\n",
    "    # Split the data\n",
    "    X_train, X_test, y_train, y_test = train_test_split(X, y, test_size = test_size, random_state = 12345)\n",
    "    scaler = preprocessing.StandardScaler().fit(X_train)\n",
    "    X_train = scaler.transform(X_train)\n",
    "    X_test = scaler.transform(X_test)\n",
    "\n",
    "    # Rebalance train data\n",
    "    rebalance = rebalance_alg\n",
    "    X_reb, y_reb = rebalance.fit_sample(X_train, y_train)\n",
    "\n",
    "    # Train a Logistic Regression model on resampled data\n",
    "    logreg = LogisticRegression(solver = 'lbfgs', multi_class = 'auto')\n",
    "    logreg.fit(X_reb, y_reb)\n",
    "\n",
    "    # Generate predictions\n",
    "    y_pred = logreg.predict(X_test)\n",
    "\n",
    "    # Print out metrics\n",
    "    print(f'-------------------------------{rebalancing_title} test size={test_size}--------------------------------------')\n",
    "    print(\"----------   Standard Metrics   -------------------\")\n",
    "    print(f' Accuracy Score: {accuracy_score(y_test, y_pred)}')\n",
    "    print(f' Precision Score: {precision_score(y_test, y_pred, average = None)}')\n",
    "    print(f' Recall Score: {recall_score(y_test, y_pred, average = None)}')\n",
    "    print(\"----------   Imbalanced Metrics   -------------------\")\n",
    "    print(f' Classification report imbalanced: {classification_report_imbalanced(y_test, y_pred)}')\n",
    "    print(f' Sensitivity specificity support:')\n",
    "    print(sensitivity_specificity_support(y_test, y_pred))\n",
    "    print(f' Sensitivity score: {sensitivity_score(y_test, y_pred)}')\n",
    "    print(f' Specificity score: {specificity_score(y_test, y_pred)}')\n",
    "    print(f' Geometric mean score: {geometric_mean_score(y_test, y_pred)}')\n",
    "\n",
    "    return None\n"
   ],
   "metadata": {
    "collapsed": false,
    "pycharm": {
     "name": "#%%\n"
    }
   }
  },
  {
   "cell_type": "markdown",
   "source": [
    "# ClusterCentroids"
   ],
   "metadata": {
    "collapsed": false
   }
  },
  {
   "cell_type": "code",
   "execution_count": 6,
   "outputs": [
    {
     "name": "stdout",
     "output_type": "stream",
     "text": [
      "-------------------------------ClusterCentroids test size=0.4--------------------------------------\n",
      "----------   Standard Metrics   -------------------\n",
      " Accuracy Score: 0.8029310882444652\n",
      " Precision Score: [0.99902572 0.01794072]\n",
      " Recall Score: [0.80284998 0.82142857]\n",
      "----------   Imbalanced Metrics   -------------------\n",
      " Classification report imbalanced:                    pre       rec       spe        f1       geo       iba       sup\n",
      "\n",
      "          0       1.00      0.80      0.82      0.89      0.81      0.66      6386\n",
      "          1       0.02      0.82      0.80      0.04      0.81      0.66        28\n",
      "\n",
      "avg / total       0.99      0.80      0.82      0.89      0.81      0.66      6414\n",
      "\n",
      " Sensitivity specificity support:\n",
      "(array([0.80284998, 0.82142857]), array([0.82142857, 0.80284998]), array([6386,   28]))\n",
      " Sensitivity score: 0.8214285714285714\n",
      " Specificity score: 0.8028499843407454\n",
      " Geometric mean score: 0.8120861504227673\n"
     ]
    }
   ],
   "source": [
    "test_size=0.4\n",
    "try:\n",
    "    from imblearn.under_sampling import ClusterCentroids\n",
    "    rebalance_train_test_logreg(X, y, ClusterCentroids(), 'ClusterCentroids',test_size)\n",
    "except:\n",
    "    print(\"Erro!\")\n"
   ],
   "metadata": {
    "collapsed": false,
    "pycharm": {
     "name": "#%%\n"
    }
   }
  },
  {
   "cell_type": "markdown",
   "source": [
    "# CondensedNearestNeighbour"
   ],
   "metadata": {
    "collapsed": false
   }
  },
  {
   "cell_type": "code",
   "execution_count": 7,
   "outputs": [
    {
     "name": "stdout",
     "output_type": "stream",
     "text": [
      "-------------------------------CondensedNearestNeighbour test size=0.4--------------------------------------\n",
      "----------   Standard Metrics   -------------------\n",
      " Accuracy Score: 0.9934518241347053\n",
      " Precision Score: [0.99593496 0.11111111]\n",
      " Recall Score: [0.99749452 0.07142857]\n",
      "----------   Imbalanced Metrics   -------------------\n",
      " Classification report imbalanced:                    pre       rec       spe        f1       geo       iba       sup\n",
      "\n",
      "          0       1.00      1.00      0.07      1.00      0.27      0.08      6386\n",
      "          1       0.11      0.07      1.00      0.09      0.27      0.06        28\n",
      "\n",
      "avg / total       0.99      0.99      0.08      0.99      0.27      0.08      6414\n",
      "\n",
      " Sensitivity specificity support:\n",
      "(array([0.99749452, 0.07142857]), array([0.07142857, 0.99749452]), array([6386,   28]))\n",
      " Sensitivity score: 0.07142857142857142\n",
      " Specificity score: 0.9974945192608832\n",
      " Geometric mean score: 0.2669262229879906\n"
     ]
    }
   ],
   "source": [
    "try:\n",
    "    from imblearn.under_sampling import CondensedNearestNeighbour\n",
    "    rebalance_train_test_logreg(X, y, CondensedNearestNeighbour(), 'CondensedNearestNeighbour',test_size)\n",
    "except:\n",
    "    print(\"Erro!\")\n"
   ],
   "metadata": {
    "collapsed": false,
    "pycharm": {
     "name": "#%%\n"
    }
   }
  },
  {
   "cell_type": "markdown",
   "source": [
    "# EditedNearestNeighbours"
   ],
   "metadata": {
    "collapsed": false
   }
  },
  {
   "cell_type": "code",
   "execution_count": 8,
   "outputs": [
    {
     "name": "stdout",
     "output_type": "stream",
     "text": [
      "-------------------------------EditedNearestNeighbours test size=0.4--------------------------------------\n",
      "----------   Standard Metrics   -------------------\n",
      " Accuracy Score: 0.9948550046772685\n",
      " Precision Score: [0.99563114 0.        ]\n",
      " Recall Score: [0.99921704 0.        ]\n",
      "----------   Imbalanced Metrics   -------------------\n",
      " Classification report imbalanced:                    pre       rec       spe        f1       geo       iba       sup\n",
      "\n",
      "          0       1.00      1.00      0.00      1.00      0.00      0.00      6386\n",
      "          1       0.00      0.00      1.00      0.00      0.00      0.00        28\n",
      "\n",
      "avg / total       0.99      0.99      0.00      0.99      0.00      0.00      6414\n",
      "\n",
      " Sensitivity specificity support:\n",
      "(array([0.99921704, 0.        ]), array([0.        , 0.99921704]), array([6386,   28]))\n",
      " Sensitivity score: 0.0\n",
      " Specificity score: 0.999217037269026\n",
      " Geometric mean score: 0.0\n"
     ]
    }
   ],
   "source": [
    "try:\n",
    "    from imblearn.under_sampling import EditedNearestNeighbours\n",
    "    rebalance_train_test_logreg(X, y, EditedNearestNeighbours(), 'EditedNearestNeighbours',test_size)\n",
    "except:\n",
    "    print(\"Erro!\")"
   ],
   "metadata": {
    "collapsed": false,
    "pycharm": {
     "name": "#%%\n"
    }
   }
  },
  {
   "cell_type": "markdown",
   "source": [
    "# EditedNearestNeighbours"
   ],
   "metadata": {
    "collapsed": false
   }
  },
  {
   "cell_type": "code",
   "execution_count": 9,
   "outputs": [
    {
     "name": "stdout",
     "output_type": "stream",
     "text": [
      "-------------------------------RepeatedEditedNearestNeighbours test size=0.4--------------------------------------\n",
      "----------   Standard Metrics   -------------------\n",
      " Accuracy Score: 0.9948550046772685\n",
      " Precision Score: [0.99563114 0.        ]\n",
      " Recall Score: [0.99921704 0.        ]\n",
      "----------   Imbalanced Metrics   -------------------\n",
      " Classification report imbalanced:                    pre       rec       spe        f1       geo       iba       sup\n",
      "\n",
      "          0       1.00      1.00      0.00      1.00      0.00      0.00      6386\n",
      "          1       0.00      0.00      1.00      0.00      0.00      0.00        28\n",
      "\n",
      "avg / total       0.99      0.99      0.00      0.99      0.00      0.00      6414\n",
      "\n",
      " Sensitivity specificity support:\n",
      "(array([0.99921704, 0.        ]), array([0.        , 0.99921704]), array([6386,   28]))\n",
      " Sensitivity score: 0.0\n",
      " Specificity score: 0.999217037269026\n",
      " Geometric mean score: 0.0\n"
     ]
    }
   ],
   "source": [
    "try:\n",
    "    from imblearn.under_sampling import RepeatedEditedNearestNeighbours\n",
    "    rebalance_train_test_logreg(X, y, RepeatedEditedNearestNeighbours(), 'RepeatedEditedNearestNeighbours',test_size)\n",
    "except:\n",
    "    print(\"Erro!\")\n"
   ],
   "metadata": {
    "collapsed": false,
    "pycharm": {
     "name": "#%%\n"
    }
   }
  },
  {
   "cell_type": "markdown",
   "source": [
    "# AllKNN"
   ],
   "metadata": {
    "collapsed": false
   }
  },
  {
   "cell_type": "code",
   "execution_count": 10,
   "outputs": [
    {
     "name": "stdout",
     "output_type": "stream",
     "text": [
      "-------------------------------AllKNN test size=0.4--------------------------------------\n",
      "----------   Standard Metrics   -------------------\n",
      " Accuracy Score: 0.9948550046772685\n",
      " Precision Score: [0.99563114 0.        ]\n",
      " Recall Score: [0.99921704 0.        ]\n",
      "----------   Imbalanced Metrics   -------------------\n",
      " Classification report imbalanced:                    pre       rec       spe        f1       geo       iba       sup\n",
      "\n",
      "          0       1.00      1.00      0.00      1.00      0.00      0.00      6386\n",
      "          1       0.00      0.00      1.00      0.00      0.00      0.00        28\n",
      "\n",
      "avg / total       0.99      0.99      0.00      0.99      0.00      0.00      6414\n",
      "\n",
      " Sensitivity specificity support:\n",
      "(array([0.99921704, 0.        ]), array([0.        , 0.99921704]), array([6386,   28]))\n",
      " Sensitivity score: 0.0\n",
      " Specificity score: 0.999217037269026\n",
      " Geometric mean score: 0.0\n"
     ]
    }
   ],
   "source": [
    "try:\n",
    "    from imblearn.under_sampling import AllKNN\n",
    "    rebalance_train_test_logreg(X, y, AllKNN(), 'AllKNN',test_size)\n",
    "except:\n",
    "    print(\"Erro!\")"
   ],
   "metadata": {
    "collapsed": false,
    "pycharm": {
     "name": "#%%\n"
    }
   }
  },
  {
   "cell_type": "markdown",
   "source": [
    "# InstanceHardnessThreshold"
   ],
   "metadata": {
    "collapsed": false
   }
  },
  {
   "cell_type": "code",
   "execution_count": 11,
   "outputs": [
    {
     "name": "stdout",
     "output_type": "stream",
     "text": [
      "-------------------------------InstanceHardnessThreshold test size=0.4--------------------------------------\n",
      "----------   Standard Metrics   -------------------\n",
      " Accuracy Score: 0.9914250077954475\n",
      " Precision Score: [0.99670485 0.17073171]\n",
      " Recall Score: [0.99467585 0.25      ]\n",
      "----------   Imbalanced Metrics   -------------------\n",
      " Classification report imbalanced:                    pre       rec       spe        f1       geo       iba       sup\n",
      "\n",
      "          0       1.00      0.99      0.25      1.00      0.50      0.27      6386\n",
      "          1       0.17      0.25      0.99      0.20      0.50      0.23        28\n",
      "\n",
      "avg / total       0.99      0.99      0.25      0.99      0.50      0.27      6414\n",
      "\n",
      " Sensitivity specificity support:\n",
      "(array([0.99467585, 0.25      ]), array([0.25      , 0.99467585]), array([6386,   28]))\n",
      " Sensitivity score: 0.25\n",
      " Specificity score: 0.9946758534293768\n",
      " Geometric mean score: 0.49866718696676265\n"
     ]
    }
   ],
   "source": [
    "try:\n",
    "    from imblearn.under_sampling import InstanceHardnessThreshold\n",
    "    rebalance_train_test_logreg(X, y, InstanceHardnessThreshold(), 'InstanceHardnessThreshold',test_size)\n",
    "except:\n",
    "    print(\"Erro!\")\n"
   ],
   "metadata": {
    "collapsed": false,
    "pycharm": {
     "name": "#%%\n"
    }
   }
  },
  {
   "cell_type": "markdown",
   "source": [
    "# NearMiss"
   ],
   "metadata": {
    "collapsed": false
   }
  },
  {
   "cell_type": "code",
   "execution_count": 12,
   "outputs": [
    {
     "name": "stdout",
     "output_type": "stream",
     "text": [
      "-------------------------------NearMiss test size=0.4--------------------------------------\n",
      "----------   Standard Metrics   -------------------\n",
      " Accuracy Score: 0.05472404115996258\n",
      " Precision Score: [0.98498498 0.00378227]\n",
      " Recall Score: [0.05136236 0.82142857]\n",
      "----------   Imbalanced Metrics   -------------------\n",
      " Classification report imbalanced:                    pre       rec       spe        f1       geo       iba       sup\n",
      "\n",
      "          0       0.98      0.05      0.82      0.10      0.21      0.04      6386\n",
      "          1       0.00      0.82      0.05      0.01      0.21      0.05        28\n",
      "\n",
      "avg / total       0.98      0.05      0.82      0.10      0.21      0.04      6414\n",
      "\n",
      " Sensitivity specificity support:\n",
      "(array([0.05136236, 0.82142857]), array([0.82142857, 0.05136236]), array([6386,   28]))\n",
      " Sensitivity score: 0.8214285714285714\n",
      " Specificity score: 0.05136235515189477\n",
      " Geometric mean score: 0.2054032765503702\n"
     ]
    }
   ],
   "source": [
    "try:\n",
    "    from imblearn.under_sampling import NearMiss\n",
    "    rebalance_train_test_logreg(X, y, NearMiss(), 'NearMiss',test_size)\n",
    "except:\n",
    "    print(\"Erro!\")"
   ],
   "metadata": {
    "collapsed": false,
    "pycharm": {
     "name": "#%%\n"
    }
   }
  },
  {
   "cell_type": "markdown",
   "source": [
    "# NeighbourhoodCleaningRule"
   ],
   "metadata": {
    "collapsed": false
   }
  },
  {
   "cell_type": "code",
   "execution_count": 13,
   "outputs": [
    {
     "name": "stdout",
     "output_type": "stream",
     "text": [
      "-------------------------------NeighbourhoodCleaningRule test size=0.4--------------------------------------\n",
      "----------   Standard Metrics   -------------------\n",
      " Accuracy Score: 0.9951668225756158\n",
      " Precision Score: [0.99563251 0.        ]\n",
      " Recall Score: [0.99953022 0.        ]\n",
      "----------   Imbalanced Metrics   -------------------\n",
      " Classification report imbalanced:                    pre       rec       spe        f1       geo       iba       sup\n",
      "\n",
      "          0       1.00      1.00      0.00      1.00      0.00      0.00      6386\n",
      "          1       0.00      0.00      1.00      0.00      0.00      0.00        28\n",
      "\n",
      "avg / total       0.99      1.00      0.00      0.99      0.00      0.00      6414\n",
      "\n",
      " Sensitivity specificity support:\n",
      "(array([0.99953022, 0.        ]), array([0.        , 0.99953022]), array([6386,   28]))\n",
      " Sensitivity score: 0.0\n",
      " Specificity score: 0.9995302223614156\n",
      " Geometric mean score: 0.0\n"
     ]
    }
   ],
   "source": [
    "try:\n",
    "    from imblearn.under_sampling import NeighbourhoodCleaningRule\n",
    "    rebalance_train_test_logreg(X, y, NeighbourhoodCleaningRule(), 'NeighbourhoodCleaningRule',test_size)\n",
    "except:\n",
    "    print(\"Erro!\")"
   ],
   "metadata": {
    "collapsed": false,
    "pycharm": {
     "name": "#%%\n"
    }
   }
  },
  {
   "cell_type": "markdown",
   "source": [
    "# OneSidedSelection"
   ],
   "metadata": {
    "collapsed": false
   }
  },
  {
   "cell_type": "code",
   "execution_count": 14,
   "outputs": [
    {
     "name": "stdout",
     "output_type": "stream",
     "text": [
      "-------------------------------OneSidedSelection test size=0.4--------------------------------------\n",
      "----------   Standard Metrics   -------------------\n",
      " Accuracy Score: 0.9956345494231369\n",
      " Precision Score: [0.99563455 0.        ]\n",
      " Recall Score: [1. 0.]\n",
      "----------   Imbalanced Metrics   -------------------\n",
      " Classification report imbalanced:                    pre       rec       spe        f1       geo       iba       sup\n",
      "\n",
      "          0       1.00      1.00      0.00      1.00      0.00      0.00      6386\n",
      "          1       0.00      0.00      1.00      0.00      0.00      0.00        28\n",
      "\n",
      "avg / total       0.99      1.00      0.00      0.99      0.00      0.00      6414\n",
      "\n",
      " Sensitivity specificity support:\n",
      "(array([1., 0.]), array([0., 1.]), array([6386,   28]))\n",
      " Sensitivity score: 0.0\n",
      " Specificity score: 1.0\n",
      " Geometric mean score: 0.0\n"
     ]
    },
    {
     "name": "stderr",
     "output_type": "stream",
     "text": [
      "/Users/pedro/Library/Python/3.7/lib/python/site-packages/sklearn/metrics/_classification.py:1221: UndefinedMetricWarning: Precision is ill-defined and being set to 0.0 in labels with no predicted samples. Use `zero_division` parameter to control this behavior.\n",
      "  _warn_prf(average, modifier, msg_start, len(result))\n",
      "/Users/pedro/Library/Python/3.7/lib/python/site-packages/sklearn/metrics/_classification.py:1221: UndefinedMetricWarning: Precision and F-score are ill-defined and being set to 0.0 in labels with no predicted samples. Use `zero_division` parameter to control this behavior.\n",
      "  _warn_prf(average, modifier, msg_start, len(result))\n"
     ]
    }
   ],
   "source": [
    "try:\n",
    "    from imblearn.under_sampling import OneSidedSelection\n",
    "    rebalance_train_test_logreg(X, y, OneSidedSelection(), 'OneSidedSelection',test_size)\n",
    "except:\n",
    "    print(\"Erro!\")"
   ],
   "metadata": {
    "collapsed": false,
    "pycharm": {
     "name": "#%%\n"
    }
   }
  },
  {
   "cell_type": "markdown",
   "source": [
    "# RandomUnderSampler"
   ],
   "metadata": {
    "collapsed": false
   }
  },
  {
   "cell_type": "code",
   "execution_count": 15,
   "outputs": [
    {
     "name": "stdout",
     "output_type": "stream",
     "text": [
      "-------------------------------RandomUnderSampler test size=0.4--------------------------------------\n",
      "----------   Standard Metrics   -------------------\n",
      " Accuracy Score: 0.7860929217337075\n",
      " Precision Score: [0.99840954 0.01445087]\n",
      " Recall Score: [0.78640777 0.71428571]\n",
      "----------   Imbalanced Metrics   -------------------\n",
      " Classification report imbalanced:                    pre       rec       spe        f1       geo       iba       sup\n",
      "\n",
      "          0       1.00      0.79      0.71      0.88      0.75      0.57      6386\n",
      "          1       0.01      0.71      0.79      0.03      0.75      0.56        28\n",
      "\n",
      "avg / total       0.99      0.79      0.71      0.88      0.75      0.57      6414\n",
      "\n",
      " Sensitivity specificity support:\n",
      "(array([0.78640777, 0.71428571]), array([0.71428571, 0.78640777]), array([6386,   28]))\n",
      " Sensitivity score: 0.7142857142857143\n",
      " Specificity score: 0.7864077669902912\n",
      " Geometric mean score: 0.7494797085742173\n"
     ]
    }
   ],
   "source": [
    "try:\n",
    "    from imblearn.under_sampling import RandomUnderSampler\n",
    "    rebalance_train_test_logreg(X, y, RandomUnderSampler(), 'RandomUnderSampler',test_size)\n",
    "except:\n",
    "    print(\"Erro!\")"
   ],
   "metadata": {
    "collapsed": false,
    "pycharm": {
     "name": "#%%\n"
    }
   }
  },
  {
   "cell_type": "markdown",
   "source": [
    "# TomekLinks"
   ],
   "metadata": {
    "collapsed": false
   }
  },
  {
   "cell_type": "code",
   "execution_count": 16,
   "outputs": [
    {
     "name": "stdout",
     "output_type": "stream",
     "text": [
      "-------------------------------TomekLinks test size=0.4--------------------------------------\n",
      "----------   Standard Metrics   -------------------\n",
      " Accuracy Score: 0.9956345494231369\n",
      " Precision Score: [0.99563455 0.        ]\n",
      " Recall Score: [1. 0.]\n",
      "----------   Imbalanced Metrics   -------------------\n",
      " Classification report imbalanced:                    pre       rec       spe        f1       geo       iba       sup\n",
      "\n",
      "          0       1.00      1.00      0.00      1.00      0.00      0.00      6386\n",
      "          1       0.00      0.00      1.00      0.00      0.00      0.00        28\n",
      "\n",
      "avg / total       0.99      1.00      0.00      0.99      0.00      0.00      6414\n",
      "\n",
      " Sensitivity specificity support:\n",
      "(array([1., 0.]), array([0., 1.]), array([6386,   28]))\n",
      " Sensitivity score: 0.0\n",
      " Specificity score: 1.0\n",
      " Geometric mean score: 0.0\n"
     ]
    },
    {
     "name": "stderr",
     "output_type": "stream",
     "text": [
      "/Users/pedro/Library/Python/3.7/lib/python/site-packages/sklearn/metrics/_classification.py:1221: UndefinedMetricWarning: Precision is ill-defined and being set to 0.0 in labels with no predicted samples. Use `zero_division` parameter to control this behavior.\n",
      "  _warn_prf(average, modifier, msg_start, len(result))\n",
      "/Users/pedro/Library/Python/3.7/lib/python/site-packages/sklearn/metrics/_classification.py:1221: UndefinedMetricWarning: Precision and F-score are ill-defined and being set to 0.0 in labels with no predicted samples. Use `zero_division` parameter to control this behavior.\n",
      "  _warn_prf(average, modifier, msg_start, len(result))\n"
     ]
    }
   ],
   "source": [
    "try:\n",
    "    from imblearn.under_sampling import TomekLinks\n",
    "    rebalance_train_test_logreg(X, y, TomekLinks(), 'TomekLinks',test_size)\n",
    "except:\n",
    "    print(\"Erro!\")"
   ],
   "metadata": {
    "collapsed": false,
    "pycharm": {
     "name": "#%%\n"
    }
   }
  },
  {
   "cell_type": "markdown",
   "source": [
    "# ADASYN"
   ],
   "metadata": {
    "collapsed": false
   }
  },
  {
   "cell_type": "code",
   "execution_count": 17,
   "outputs": [
    {
     "name": "stdout",
     "output_type": "stream",
     "text": [
      "-------------------------------ADASYN test size=0.4--------------------------------------\n",
      "----------   Standard Metrics   -------------------\n",
      " Accuracy Score: 0.8565637667602121\n",
      " Precision Score: [0.99854068 0.02145923]\n",
      " Recall Score: [0.8571876  0.71428571]\n",
      "----------   Imbalanced Metrics   -------------------\n",
      " Classification report imbalanced:                    pre       rec       spe        f1       geo       iba       sup\n",
      "\n",
      "          0       1.00      0.86      0.71      0.92      0.78      0.62      6386\n",
      "          1       0.02      0.71      0.86      0.04      0.78      0.60        28\n",
      "\n",
      "avg / total       0.99      0.86      0.71      0.92      0.78      0.62      6414\n",
      "\n",
      " Sensitivity specificity support:\n",
      "(array([0.8571876 , 0.71428571]), array([0.71428571, 0.8571876 ]), array([6386,   28]))\n",
      " Sensitivity score: 0.7142857142857143\n",
      " Specificity score: 0.8571875978703414\n",
      " Geometric mean score: 0.7824812174242092\n"
     ]
    },
    {
     "name": "stderr",
     "output_type": "stream",
     "text": [
      "/Users/pedro/Library/Python/3.7/lib/python/site-packages/sklearn/linear_model/_logistic.py:764: ConvergenceWarning: lbfgs failed to converge (status=1):\n",
      "STOP: TOTAL NO. of ITERATIONS REACHED LIMIT.\n",
      "\n",
      "Increase the number of iterations (max_iter) or scale the data as shown in:\n",
      "    https://scikit-learn.org/stable/modules/preprocessing.html\n",
      "Please also refer to the documentation for alternative solver options:\n",
      "    https://scikit-learn.org/stable/modules/linear_model.html#logistic-regression\n",
      "  extra_warning_msg=_LOGISTIC_SOLVER_CONVERGENCE_MSG)\n"
     ]
    }
   ],
   "source": [
    "try:\n",
    "    from imblearn.over_sampling import ADASYN\n",
    "    rebalance_train_test_logreg(X, y, ADASYN(), 'ADASYN',test_size)\n",
    "except:\n",
    "    print(\"Erro!\")"
   ],
   "metadata": {
    "collapsed": false,
    "pycharm": {
     "name": "#%%\n"
    }
   }
  },
  {
   "cell_type": "markdown",
   "source": [
    "# BorderlineSMOTE"
   ],
   "metadata": {
    "collapsed": false
   }
  },
  {
   "cell_type": "code",
   "execution_count": 18,
   "outputs": [
    {
     "name": "stdout",
     "output_type": "stream",
     "text": [
      "-------------------------------BorderlineSMOTE test size=0.4--------------------------------------\n",
      "----------   Standard Metrics   -------------------\n",
      " Accuracy Score: 0.9228250701590271\n",
      " Precision Score: [0.99763474 0.02828283]\n",
      " Recall Score: [0.92467899 0.5       ]\n",
      "----------   Imbalanced Metrics   -------------------\n",
      " Classification report imbalanced:                    pre       rec       spe        f1       geo       iba       sup\n",
      "\n",
      "          0       1.00      0.92      0.50      0.96      0.68      0.48      6386\n",
      "          1       0.03      0.50      0.92      0.05      0.68      0.44        28\n",
      "\n",
      "avg / total       0.99      0.92      0.50      0.96      0.68      0.48      6414\n",
      "\n",
      " Sensitivity specificity support:\n",
      "(array([0.92467899, 0.5       ]), array([0.5       , 0.92467899]), array([6386,   28]))\n",
      " Sensitivity score: 0.5\n",
      " Specificity score: 0.9246789852803007\n",
      " Geometric mean score: 0.679955507838675\n"
     ]
    },
    {
     "name": "stderr",
     "output_type": "stream",
     "text": [
      "/Users/pedro/Library/Python/3.7/lib/python/site-packages/sklearn/linear_model/_logistic.py:764: ConvergenceWarning: lbfgs failed to converge (status=1):\n",
      "STOP: TOTAL NO. of ITERATIONS REACHED LIMIT.\n",
      "\n",
      "Increase the number of iterations (max_iter) or scale the data as shown in:\n",
      "    https://scikit-learn.org/stable/modules/preprocessing.html\n",
      "Please also refer to the documentation for alternative solver options:\n",
      "    https://scikit-learn.org/stable/modules/linear_model.html#logistic-regression\n",
      "  extra_warning_msg=_LOGISTIC_SOLVER_CONVERGENCE_MSG)\n"
     ]
    }
   ],
   "source": [
    "try:\n",
    "    from imblearn.over_sampling import BorderlineSMOTE\n",
    "    rebalance_train_test_logreg(X, y, BorderlineSMOTE(), 'BorderlineSMOTE',test_size)\n",
    "except:\n",
    "    print(\"Erro!\")"
   ],
   "metadata": {
    "collapsed": false,
    "pycharm": {
     "name": "#%%\n"
    }
   }
  },
  {
   "cell_type": "markdown",
   "source": [
    "# KMeansSMOTE"
   ],
   "metadata": {
    "collapsed": false
   }
  },
  {
   "cell_type": "code",
   "execution_count": 19,
   "outputs": [
    {
     "name": "stdout",
     "output_type": "stream",
     "text": [
      "Erro!\n"
     ]
    }
   ],
   "source": [
    "try:\n",
    "    from imblearn.over_sampling import KMeansSMOTE\n",
    "    rebalance_train_test_logreg(X, y, KMeansSMOTE(), 'KMeansSMOTE',test_size)\n",
    "except:\n",
    "    print(\"Erro!\")"
   ],
   "metadata": {
    "collapsed": false,
    "pycharm": {
     "name": "#%%\n"
    }
   }
  },
  {
   "cell_type": "markdown",
   "source": [
    "# RandomOverSampler"
   ],
   "metadata": {
    "collapsed": false
   }
  },
  {
   "cell_type": "code",
   "execution_count": 20,
   "outputs": [
    {
     "name": "stdout",
     "output_type": "stream",
     "text": [
      "-------------------------------RandomOverSampler test size=0.4--------------------------------------\n",
      "----------   Standard Metrics   -------------------\n",
      " Accuracy Score: 0.8587464920486436\n",
      " Precision Score: [0.99836304 0.02074236]\n",
      " Recall Score: [0.85953649 0.67857143]\n",
      "----------   Imbalanced Metrics   -------------------\n",
      " Classification report imbalanced:                    pre       rec       spe        f1       geo       iba       sup\n",
      "\n",
      "          0       1.00      0.86      0.68      0.92      0.76      0.59      6386\n",
      "          1       0.02      0.68      0.86      0.04      0.76      0.57        28\n",
      "\n",
      "avg / total       0.99      0.86      0.68      0.92      0.76      0.59      6414\n",
      "\n",
      " Sensitivity specificity support:\n",
      "(array([0.85953649, 0.67857143]), array([0.67857143, 0.85953649]), array([6386,   28]))\n",
      " Sensitivity score: 0.6785714285714286\n",
      " Specificity score: 0.8595364860632634\n",
      " Geometric mean score: 0.7637125776476478\n"
     ]
    },
    {
     "name": "stderr",
     "output_type": "stream",
     "text": [
      "/Users/pedro/Library/Python/3.7/lib/python/site-packages/sklearn/linear_model/_logistic.py:764: ConvergenceWarning: lbfgs failed to converge (status=1):\n",
      "STOP: TOTAL NO. of ITERATIONS REACHED LIMIT.\n",
      "\n",
      "Increase the number of iterations (max_iter) or scale the data as shown in:\n",
      "    https://scikit-learn.org/stable/modules/preprocessing.html\n",
      "Please also refer to the documentation for alternative solver options:\n",
      "    https://scikit-learn.org/stable/modules/linear_model.html#logistic-regression\n",
      "  extra_warning_msg=_LOGISTIC_SOLVER_CONVERGENCE_MSG)\n"
     ]
    }
   ],
   "source": [
    "try:\n",
    "    from imblearn.over_sampling import RandomOverSampler\n",
    "    rebalance_train_test_logreg(X, y, RandomOverSampler(), 'RandomOverSampler',test_size)\n",
    "except:\n",
    "    print(\"Erro!\")"
   ],
   "metadata": {
    "collapsed": false,
    "pycharm": {
     "name": "#%%\n"
    }
   }
  },
  {
   "cell_type": "markdown",
   "source": [
    "# SMOTE"
   ],
   "metadata": {
    "collapsed": false
   }
  },
  {
   "cell_type": "code",
   "execution_count": 21,
   "outputs": [
    {
     "name": "stderr",
     "output_type": "stream",
     "text": [
      "/Users/pedro/Library/Python/3.7/lib/python/site-packages/sklearn/linear_model/_logistic.py:764: ConvergenceWarning: lbfgs failed to converge (status=1):\n",
      "STOP: TOTAL NO. of ITERATIONS REACHED LIMIT.\n",
      "\n",
      "Increase the number of iterations (max_iter) or scale the data as shown in:\n",
      "    https://scikit-learn.org/stable/modules/preprocessing.html\n",
      "Please also refer to the documentation for alternative solver options:\n",
      "    https://scikit-learn.org/stable/modules/linear_model.html#logistic-regression\n",
      "  extra_warning_msg=_LOGISTIC_SOLVER_CONVERGENCE_MSG)\n"
     ]
    },
    {
     "name": "stdout",
     "output_type": "stream",
     "text": [
      "-------------------------------SMOTE test size=0.4--------------------------------------\n",
      "----------   Standard Metrics   -------------------\n",
      " Accuracy Score: 0.8620205799812909\n",
      " Precision Score: [0.99836927 0.02122905]\n",
      " Recall Score: [0.86282493 0.67857143]\n",
      "----------   Imbalanced Metrics   -------------------\n",
      " Classification report imbalanced:                    pre       rec       spe        f1       geo       iba       sup\n",
      "\n",
      "          0       1.00      0.86      0.68      0.93      0.77      0.60      6386\n",
      "          1       0.02      0.68      0.86      0.04      0.77      0.57        28\n",
      "\n",
      "avg / total       0.99      0.86      0.68      0.92      0.77      0.60      6414\n",
      "\n",
      " Sensitivity specificity support:\n",
      "(array([0.86282493, 0.67857143]), array([0.67857143, 0.86282493]), array([6386,   28]))\n",
      " Sensitivity score: 0.6785714285714286\n",
      " Specificity score: 0.8628249295333542\n",
      " Geometric mean score: 0.765172101582703\n"
     ]
    }
   ],
   "source": [
    "try:\n",
    "    from imblearn.over_sampling import SMOTE\n",
    "    rebalance_train_test_logreg(X, y, SMOTE(), 'SMOTE',test_size)\n",
    "except:\n",
    "    print(\"Erro!\")"
   ],
   "metadata": {
    "collapsed": false,
    "pycharm": {
     "name": "#%%\n"
    }
   }
  },
  {
   "cell_type": "markdown",
   "source": [
    "# SMOTENC"
   ],
   "metadata": {
    "collapsed": false
   }
  },
  {
   "cell_type": "code",
   "execution_count": 22,
   "outputs": [
    {
     "name": "stdout",
     "output_type": "stream",
     "text": [
      "Erro!\n"
     ]
    }
   ],
   "source": [
    "try:\n",
    "    from imblearn.over_sampling import SMOTENC\n",
    "    rebalance_train_test_logreg(X, y, SMOTENC(), 'SMOTENC',test_size)\n",
    "except:\n",
    "    print(\"Erro!\")"
   ],
   "metadata": {
    "collapsed": false,
    "pycharm": {
     "name": "#%%\n"
    }
   }
  },
  {
   "cell_type": "markdown",
   "source": [
    "# SVMSMOTE"
   ],
   "metadata": {
    "collapsed": false
   }
  },
  {
   "cell_type": "code",
   "execution_count": 23,
   "outputs": [
    {
     "name": "stdout",
     "output_type": "stream",
     "text": [
      "-------------------------------SVMSMOTE test size=0.4--------------------------------------\n",
      "----------   Standard Metrics   -------------------\n",
      " Accuracy Score: 0.9370127845338322\n",
      " Precision Score: [0.99750499 0.03233831]\n",
      " Recall Score: [0.9390855  0.46428571]\n",
      "----------   Imbalanced Metrics   -------------------\n",
      " Classification report imbalanced:                    pre       rec       spe        f1       geo       iba       sup\n",
      "\n",
      "          0       1.00      0.94      0.46      0.97      0.66      0.46      6386\n",
      "          1       0.03      0.46      0.94      0.06      0.66      0.42        28\n",
      "\n",
      "avg / total       0.99      0.94      0.47      0.96      0.66      0.46      6414\n",
      "\n",
      " Sensitivity specificity support:\n",
      "(array([0.9390855 , 0.46428571]), array([0.46428571, 0.9390855 ]), array([6386,   28]))\n",
      " Sensitivity score: 0.4642857142857143\n",
      " Specificity score: 0.9390854995302224\n",
      " Geometric mean score: 0.6603059759874554\n"
     ]
    },
    {
     "name": "stderr",
     "output_type": "stream",
     "text": [
      "/Users/pedro/Library/Python/3.7/lib/python/site-packages/sklearn/linear_model/_logistic.py:764: ConvergenceWarning: lbfgs failed to converge (status=1):\n",
      "STOP: TOTAL NO. of ITERATIONS REACHED LIMIT.\n",
      "\n",
      "Increase the number of iterations (max_iter) or scale the data as shown in:\n",
      "    https://scikit-learn.org/stable/modules/preprocessing.html\n",
      "Please also refer to the documentation for alternative solver options:\n",
      "    https://scikit-learn.org/stable/modules/linear_model.html#logistic-regression\n",
      "  extra_warning_msg=_LOGISTIC_SOLVER_CONVERGENCE_MSG)\n"
     ]
    }
   ],
   "source": [
    "try:\n",
    "    from imblearn.over_sampling import SVMSMOTE\n",
    "    rebalance_train_test_logreg(X, y, SVMSMOTE(), 'SVMSMOTE',test_size)\n",
    "except:\n",
    "    print(\"Erro!\")"
   ],
   "metadata": {
    "collapsed": false,
    "pycharm": {
     "name": "#%%\n"
    }
   }
  },
  {
   "cell_type": "markdown",
   "source": [
    "# SMOTEENN"
   ],
   "metadata": {
    "collapsed": false
   }
  },
  {
   "cell_type": "code",
   "execution_count": 24,
   "outputs": [
    {
     "name": "stdout",
     "output_type": "stream",
     "text": [
      "-------------------------------SMOTEENN test size=0.4--------------------------------------\n",
      "----------   Standard Metrics   -------------------\n",
      " Accuracy Score: 0.8598378546928593\n",
      " Precision Score: [0.99836512 0.02090209]\n",
      " Recall Score: [0.86063263 0.67857143]\n",
      "----------   Imbalanced Metrics   -------------------\n",
      " Classification report imbalanced:                    pre       rec       spe        f1       geo       iba       sup\n",
      "\n",
      "          0       1.00      0.86      0.68      0.92      0.76      0.59      6386\n",
      "          1       0.02      0.68      0.86      0.04      0.76      0.57        28\n",
      "\n",
      "avg / total       0.99      0.86      0.68      0.92      0.76      0.59      6414\n",
      "\n",
      " Sensitivity specificity support:\n",
      "(array([0.86063263, 0.67857143]), array([0.67857143, 0.86063263]), array([6386,   28]))\n",
      " Sensitivity score: 0.6785714285714286\n",
      " Specificity score: 0.860632633886627\n",
      " Geometric mean score: 0.7641993953489101\n"
     ]
    },
    {
     "name": "stderr",
     "output_type": "stream",
     "text": [
      "/Users/pedro/Library/Python/3.7/lib/python/site-packages/sklearn/linear_model/_logistic.py:764: ConvergenceWarning: lbfgs failed to converge (status=1):\n",
      "STOP: TOTAL NO. of ITERATIONS REACHED LIMIT.\n",
      "\n",
      "Increase the number of iterations (max_iter) or scale the data as shown in:\n",
      "    https://scikit-learn.org/stable/modules/preprocessing.html\n",
      "Please also refer to the documentation for alternative solver options:\n",
      "    https://scikit-learn.org/stable/modules/linear_model.html#logistic-regression\n",
      "  extra_warning_msg=_LOGISTIC_SOLVER_CONVERGENCE_MSG)\n"
     ]
    }
   ],
   "source": [
    "try:\n",
    "    from imblearn.combine import SMOTEENN\n",
    "    rebalance_train_test_logreg(X, y, SMOTEENN(), 'SMOTEENN',test_size)\n",
    "except:\n",
    "    print(\"Erro!\")"
   ],
   "metadata": {
    "collapsed": false,
    "pycharm": {
     "name": "#%%\n"
    }
   }
  },
  {
   "cell_type": "markdown",
   "source": [
    "# SMOTETomek"
   ],
   "metadata": {
    "collapsed": false
   }
  },
  {
   "cell_type": "code",
   "execution_count": 25,
   "outputs": [
    {
     "name": "stdout",
     "output_type": "stream",
     "text": [
      "-------------------------------SMOTETomek test size=0.4--------------------------------------\n",
      "----------   Standard Metrics   -------------------\n",
      " Accuracy Score: 0.8632678515746803\n",
      " Precision Score: [0.99837163 0.02142052]\n",
      " Recall Score: [0.86407767 0.67857143]\n",
      "----------   Imbalanced Metrics   -------------------\n",
      " Classification report imbalanced:                    pre       rec       spe        f1       geo       iba       sup\n",
      "\n",
      "          0       1.00      0.86      0.68      0.93      0.77      0.60      6386\n",
      "          1       0.02      0.68      0.86      0.04      0.77      0.58        28\n",
      "\n",
      "avg / total       0.99      0.86      0.68      0.92      0.77      0.60      6414\n",
      "\n",
      " Sensitivity specificity support:\n",
      "(array([0.86407767, 0.67857143]), array([0.67857143, 0.86407767]), array([6386,   28]))\n",
      " Sensitivity score: 0.6785714285714286\n",
      " Specificity score: 0.8640776699029126\n",
      " Geometric mean score: 0.7657273789428524\n"
     ]
    },
    {
     "name": "stderr",
     "output_type": "stream",
     "text": [
      "/Users/pedro/Library/Python/3.7/lib/python/site-packages/sklearn/linear_model/_logistic.py:764: ConvergenceWarning: lbfgs failed to converge (status=1):\n",
      "STOP: TOTAL NO. of ITERATIONS REACHED LIMIT.\n",
      "\n",
      "Increase the number of iterations (max_iter) or scale the data as shown in:\n",
      "    https://scikit-learn.org/stable/modules/preprocessing.html\n",
      "Please also refer to the documentation for alternative solver options:\n",
      "    https://scikit-learn.org/stable/modules/linear_model.html#logistic-regression\n",
      "  extra_warning_msg=_LOGISTIC_SOLVER_CONVERGENCE_MSG)\n"
     ]
    }
   ],
   "source": [
    "try:\n",
    "    from imblearn.combine import SMOTETomek\n",
    "    rebalance_train_test_logreg(X, y, SMOTETomek(), 'SMOTETomek',test_size)\n",
    "except:\n",
    "    print(\"Erro!\")\n"
   ],
   "metadata": {
    "collapsed": false,
    "pycharm": {
     "name": "#%%\n"
    }
   }
  },
  {
   "cell_type": "markdown",
   "source": [
    "# BalancedBaggingClassifier"
   ],
   "metadata": {
    "collapsed": false
   }
  },
  {
   "cell_type": "code",
   "execution_count": 26,
   "outputs": [
    {
     "name": "stdout",
     "output_type": "stream",
     "text": [
      "Erro!\n"
     ]
    }
   ],
   "source": [
    "try:\n",
    "    from imblearn.ensemble import BalancedBaggingClassifier\n",
    "    rebalance_train_test_logreg(X, y, BalancedBaggingClassifier(), 'BalancedBaggingClassifier',test_size)\n",
    "except:\n",
    "    print(\"Erro!\")"
   ],
   "metadata": {
    "collapsed": false,
    "pycharm": {
     "name": "#%%\n"
    }
   }
  },
  {
   "cell_type": "markdown",
   "source": [
    "# BalancedRandomForestClassifier"
   ],
   "metadata": {
    "collapsed": false
   }
  },
  {
   "cell_type": "code",
   "execution_count": 27,
   "outputs": [
    {
     "name": "stdout",
     "output_type": "stream",
     "text": [
      "Erro!\n"
     ]
    }
   ],
   "source": [
    "try:\n",
    "    from imblearn.ensemble import BalancedRandomForestClassifier\n",
    "    rebalance_train_test_logreg(X, y, BalancedRandomForestClassifier(), 'BalancedRandomForestClassifier',test_size)\n",
    "except:\n",
    "    print(\"Erro!\")"
   ],
   "metadata": {
    "collapsed": false,
    "pycharm": {
     "name": "#%%\n"
    }
   }
  },
  {
   "cell_type": "markdown",
   "source": [
    "# EasyEnsemble"
   ],
   "metadata": {
    "collapsed": false
   }
  },
  {
   "cell_type": "code",
   "execution_count": 28,
   "outputs": [
    {
     "name": "stdout",
     "output_type": "stream",
     "text": [
      "Erro!\n"
     ]
    }
   ],
   "source": [
    "try:\n",
    "    from imblearn.ensemble import EasyEnsembleClassifier\n",
    "    rebalance_train_test_logreg(X, y, EasyEnsembleClassifier(), 'EasyEnsembleClassifier',test_size)\n",
    "except:\n",
    "    print(\"Erro!\")"
   ],
   "metadata": {
    "collapsed": false,
    "pycharm": {
     "name": "#%%\n"
    }
   }
  },
  {
   "cell_type": "markdown",
   "source": [
    "# RUSBoostClassifier"
   ],
   "metadata": {
    "collapsed": false
   }
  },
  {
   "cell_type": "code",
   "execution_count": 29,
   "outputs": [
    {
     "name": "stdout",
     "output_type": "stream",
     "text": [
      "Erro!\n"
     ]
    }
   ],
   "source": [
    "try:\n",
    "    from imblearn.ensemble import RUSBoostClassifier\n",
    "    rebalance_train_test_logreg(X, y, RUSBoostClassifier(), 'RUSBoostClassifier',test_size)\n",
    "except:\n",
    "    print(\"Erro!\")\n"
   ],
   "metadata": {
    "collapsed": false,
    "pycharm": {
     "name": "#%%\n"
    }
   }
  },
  {
   "cell_type": "markdown",
   "source": [
    "# RUSBoostClassifier"
   ],
   "metadata": {
    "collapsed": false
   }
  },
  {
   "cell_type": "code",
   "execution_count": 30,
   "outputs": [
    {
     "name": "stdout",
     "output_type": "stream",
     "text": [
      "Erro!\n"
     ]
    }
   ],
   "source": [
    "try:\n",
    "    from imblearn.ensemble import RUSBoostClassifier\n",
    "    rebalance_train_test_logreg(X, y, RUSBoostClassifier(), 'RUSBoostClassifier',test_size)\n",
    "except:\n",
    "    print(\"Erro!\")\n"
   ],
   "metadata": {
    "collapsed": false,
    "pycharm": {
     "name": "#%%\n"
    }
   }
  }
 ],
 "metadata": {
  "kernelspec": {
   "display_name": "Python 3",
   "language": "python",
   "name": "python3"
  },
  "language_info": {
   "codemirror_mode": {
    "name": "ipython",
    "version": 2
   },
   "file_extension": ".py",
   "mimetype": "text/x-python",
   "name": "python",
   "nbconvert_exporter": "python",
   "pygments_lexer": "ipython2",
   "version": "2.7.6"
  },
  "pycharm": {
   "stem_cell": {
    "cell_type": "raw",
    "source": [
     "\n"
    ],
    "metadata": {
     "collapsed": false
    }
   }
  }
 },
 "nbformat": 4,
 "nbformat_minor": 0
}