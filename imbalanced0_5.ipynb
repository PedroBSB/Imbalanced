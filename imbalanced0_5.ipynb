{
 "cells": [
  {
   "cell_type": "markdown",
   "source": [
    "Lê os dados:"
   ],
   "metadata": {
    "collapsed": false
   }
  },
  {
   "cell_type": "code",
   "execution_count": 1,
   "outputs": [],
   "source": [
    "import pandas as pd\n",
    "df = pd.read_csv(\"Base_Dissertacaov10.csv\",sep=';',decimal=\",\",encoding = \"latin\")\n",
    "# print(df.head())"
   ],
   "metadata": {
    "collapsed": false,
    "pycharm": {
     "name": "#%%\n"
    }
   }
  },
  {
   "cell_type": "code",
   "execution_count": 2,
   "outputs": [],
   "source": [
    "from sklearn import preprocessing\n",
    "from sklearn.model_selection import train_test_split\n",
    "#Cria os dados\n",
    "y = df[\"AUTO\"].to_numpy()\n",
    "X = df.iloc[:,3:-1]\n",
    "X_train, X_test, y_train, y_test = train_test_split(X, y, test_size = 0.5, random_state = 12345)\n",
    "\n",
    "#Padroniza os dados\n",
    "scaler = preprocessing.StandardScaler().fit(X_train)\n",
    "X_train = scaler.transform(X_train)\n",
    "X_test = scaler.transform(X_test)"
   ],
   "metadata": {
    "collapsed": false,
    "pycharm": {
     "name": "#%%\n"
    }
   }
  },
  {
   "cell_type": "markdown",
   "source": [
    "# Random Over Sampler"
   ],
   "metadata": {
    "collapsed": false
   }
  },
  {
   "cell_type": "code",
   "execution_count": 3,
   "outputs": [],
   "source": [
    "from imblearn.over_sampling import RandomOverSampler\n",
    "ros = RandomOverSampler(random_state=12345)\n",
    "X_resampled, y_resampled = ros.fit_resample(X_train, y_train)"
   ],
   "metadata": {
    "collapsed": false,
    "pycharm": {
     "name": "#%%\n"
    }
   }
  },
  {
   "cell_type": "code",
   "execution_count": 4,
   "outputs": [
    {
     "name": "stdout",
     "output_type": "stream",
     "text": [
      " Accuracy Score: 0.9956348216512846\n",
      " Precision Score: [0.99563482 0.        ]\n",
      " Recall Score: [1. 0.]\n"
     ]
    },
    {
     "name": "stderr",
     "output_type": "stream",
     "text": [
      "/Users/pedro/Library/Python/3.7/lib/python/site-packages/sklearn/metrics/_classification.py:1221: UndefinedMetricWarning: Precision is ill-defined and being set to 0.0 in labels with no predicted samples. Use `zero_division` parameter to control this behavior.\n",
      "  _warn_prf(average, modifier, msg_start, len(result))\n"
     ]
    }
   ],
   "source": [
    "from sklearn.linear_model import LogisticRegression\n",
    "from sklearn.metrics import accuracy_score, precision_score, recall_score\n",
    "logreg = LogisticRegression(solver = 'lbfgs', multi_class = 'auto')\n",
    "logreg.fit(X_train, y_train)\n",
    "y_pred = logreg.predict(X_test)\n",
    "print(f' Accuracy Score: {accuracy_score(y_test, y_pred)}')\n",
    "print(f' Precision Score: {precision_score(y_test, y_pred, average = None)}')\n",
    "print(f' Recall Score: {recall_score(y_test, y_pred, average = None)}')\n"
   ],
   "metadata": {
    "collapsed": false,
    "pycharm": {
     "name": "#%%\n"
    }
   }
  },
  {
   "cell_type": "markdown",
   "source": [
    "# Random Over Sampler\n",
    "Copiado de : https://audreymychan.com/unbalancedclasses.html"
   ],
   "metadata": {
    "collapsed": false
   }
  },
  {
   "cell_type": "code",
   "execution_count": 5,
   "outputs": [],
   "source": [
    "# Method to rebalance train data, model a logistic regression, and output charts for predictions on test data\n",
    "# Inputs: X data, y data, rebalance algorithm (i.e. SMOTE()), rebalancing_title as a str (i.e. 'SMOTE')\n",
    "from imblearn.metrics import classification_report_imbalanced, sensitivity_specificity_support,sensitivity_score,specificity_score,geometric_mean_score, make_index_balanced_accuracy\n",
    "def rebalance_train_test_logreg(X, y, rebalance_alg, rebalancing_title, test_size=0.2):\n",
    "\n",
    "    # Split the data\n",
    "    X_train, X_test, y_train, y_test = train_test_split(X, y, test_size = test_size, random_state = 12345)\n",
    "\n",
    "    scaler = preprocessing.StandardScaler().fit(X_train)\n",
    "    X_train = scaler.transform(X_train)\n",
    "    X_test = scaler.transform(X_test)\n",
    "\n",
    "    # Rebalance train data\n",
    "    rebalance = rebalance_alg\n",
    "    X_reb, y_reb = rebalance.fit_sample(X_train, y_train)\n",
    "\n",
    "    # Train a Logistic Regression model on resampled data\n",
    "    logreg = LogisticRegression(solver = 'lbfgs', multi_class = 'auto')\n",
    "    logreg.fit(X_reb, y_reb)\n",
    "\n",
    "    # Generate predictions\n",
    "    y_pred = logreg.predict(X_test)\n",
    "\n",
    "    # Print out metrics\n",
    "    print(f'-------------------------------{rebalancing_title} test size={test_size}--------------------------------------')\n",
    "    print(\"----------   Standard Metrics   -------------------\")\n",
    "    print(f' Accuracy Score: {accuracy_score(y_test, y_pred)}')\n",
    "    print(f' Precision Score: {precision_score(y_test, y_pred, average = None)}')\n",
    "    print(f' Recall Score: {recall_score(y_test, y_pred, average = None)}')\n",
    "    print(\"----------   Imbalanced Metrics   -------------------\")\n",
    "    print(f' Classification report imbalanced: {classification_report_imbalanced(y_test, y_pred)}')\n",
    "    print(f' Sensitivity specificity support:')\n",
    "    print(sensitivity_specificity_support(y_test, y_pred))\n",
    "    print(f' Sensitivity score: {sensitivity_score(y_test, y_pred)}')\n",
    "    print(f' Specificity score: {specificity_score(y_test, y_pred)}')\n",
    "    print(f' Geometric mean score: {geometric_mean_score(y_test, y_pred)}')\n",
    "\n",
    "    return None\n"
   ],
   "metadata": {
    "collapsed": false,
    "pycharm": {
     "name": "#%%\n"
    }
   }
  },
  {
   "cell_type": "markdown",
   "source": [
    "# ClusterCentroids"
   ],
   "metadata": {
    "collapsed": false
   }
  },
  {
   "cell_type": "code",
   "execution_count": 6,
   "outputs": [
    {
     "name": "stdout",
     "output_type": "stream",
     "text": [
      "-------------------------------ClusterCentroids test size=0.5--------------------------------------\n",
      "----------   Standard Metrics   -------------------\n",
      " Accuracy Score: 0.7944624594662011\n",
      " Precision Score: [0.99905467 0.01735488]\n",
      " Recall Score: [0.79431291 0.82857143]\n",
      "----------   Imbalanced Metrics   -------------------\n",
      " Classification report imbalanced:                    pre       rec       spe        f1       geo       iba       sup\n",
      "\n",
      "          0       1.00      0.79      0.83      0.88      0.81      0.66      7983\n",
      "          1       0.02      0.83      0.79      0.03      0.81      0.66        35\n",
      "\n",
      "avg / total       0.99      0.79      0.83      0.88      0.81      0.66      8018\n",
      "\n",
      " Sensitivity specificity support:\n",
      "(array([0.79431291, 0.82857143]), array([0.82857143, 0.79431291]), array([7983,   35]))\n",
      " Sensitivity score: 0.8285714285714286\n",
      " Specificity score: 0.7943129149442566\n",
      " Geometric mean score: 0.8112613553400029\n"
     ]
    }
   ],
   "source": [
    "test_size=0.5\n",
    "try:\n",
    "    from imblearn.under_sampling import ClusterCentroids\n",
    "    rebalance_train_test_logreg(X, y, ClusterCentroids(), 'ClusterCentroids',test_size)\n",
    "except:\n",
    "    print(\"Erro!\")\n"
   ],
   "metadata": {
    "collapsed": false,
    "pycharm": {
     "name": "#%%\n"
    }
   }
  },
  {
   "cell_type": "markdown",
   "source": [
    "# CondensedNearestNeighbour"
   ],
   "metadata": {
    "collapsed": false
   }
  },
  {
   "cell_type": "code",
   "execution_count": 7,
   "outputs": [
    {
     "name": "stdout",
     "output_type": "stream",
     "text": [
      "-------------------------------CondensedNearestNeighbour test size=0.5--------------------------------------\n",
      "----------   Standard Metrics   -------------------\n",
      " Accuracy Score: 0.9930157146420554\n",
      " Precision Score: [0.99587139 0.08      ]\n",
      " Recall Score: [0.99711888 0.05714286]\n",
      "----------   Imbalanced Metrics   -------------------\n",
      " Classification report imbalanced:                    pre       rec       spe        f1       geo       iba       sup\n",
      "\n",
      "          0       1.00      1.00      0.06      1.00      0.24      0.06      7983\n",
      "          1       0.08      0.06      1.00      0.07      0.24      0.05        35\n",
      "\n",
      "avg / total       0.99      0.99      0.06      0.99      0.24      0.06      8018\n",
      "\n",
      " Sensitivity specificity support:\n",
      "(array([0.99711888, 0.05714286]), array([0.05714286, 0.99711888]), array([7983,   35]))\n",
      " Sensitivity score: 0.05714285714285714\n",
      " Specificity score: 0.9971188776149317\n",
      " Geometric mean score: 0.23870111348294143\n"
     ]
    }
   ],
   "source": [
    "try:\n",
    "    from imblearn.under_sampling import CondensedNearestNeighbour\n",
    "    rebalance_train_test_logreg(X, y, CondensedNearestNeighbour(), 'CondensedNearestNeighbour',test_size)\n",
    "except:\n",
    "    print(\"Erro!\")\n"
   ],
   "metadata": {
    "collapsed": false,
    "pycharm": {
     "name": "#%%\n"
    }
   }
  },
  {
   "cell_type": "markdown",
   "source": [
    "# EditedNearestNeighbours"
   ],
   "metadata": {
    "collapsed": false
   }
  },
  {
   "cell_type": "code",
   "execution_count": 8,
   "outputs": [
    {
     "name": "stdout",
     "output_type": "stream",
     "text": [
      "-------------------------------EditedNearestNeighbours test size=0.5--------------------------------------\n",
      "----------   Standard Metrics   -------------------\n",
      " Accuracy Score: 0.995260663507109\n",
      " Precision Score: [0.99563319 0.        ]\n",
      " Recall Score: [0.9996242 0.       ]\n",
      "----------   Imbalanced Metrics   -------------------\n",
      " Classification report imbalanced:                    pre       rec       spe        f1       geo       iba       sup\n",
      "\n",
      "          0       1.00      1.00      0.00      1.00      0.00      0.00      7983\n",
      "          1       0.00      0.00      1.00      0.00      0.00      0.00        35\n",
      "\n",
      "avg / total       0.99      1.00      0.00      0.99      0.00      0.00      8018\n",
      "\n",
      " Sensitivity specificity support:\n",
      "(array([0.9996242, 0.       ]), array([0.       , 0.9996242]), array([7983,   35]))\n",
      " Sensitivity score: 0.0\n",
      " Specificity score: 0.9996242014280345\n",
      " Geometric mean score: 0.0\n"
     ]
    }
   ],
   "source": [
    "try:\n",
    "    from imblearn.under_sampling import EditedNearestNeighbours\n",
    "    rebalance_train_test_logreg(X, y, EditedNearestNeighbours(), 'EditedNearestNeighbours',test_size)\n",
    "except:\n",
    "    print(\"Erro!\")"
   ],
   "metadata": {
    "collapsed": false,
    "pycharm": {
     "name": "#%%\n"
    }
   }
  },
  {
   "cell_type": "markdown",
   "source": [
    "# EditedNearestNeighbours"
   ],
   "metadata": {
    "collapsed": false
   }
  },
  {
   "cell_type": "code",
   "execution_count": 9,
   "outputs": [
    {
     "name": "stdout",
     "output_type": "stream",
     "text": [
      "-------------------------------RepeatedEditedNearestNeighbours test size=0.5--------------------------------------\n",
      "----------   Standard Metrics   -------------------\n",
      " Accuracy Score: 0.995260663507109\n",
      " Precision Score: [0.99612839 0.36363636]\n",
      " Recall Score: [0.99912314 0.11428571]\n",
      "----------   Imbalanced Metrics   -------------------\n",
      " Classification report imbalanced:                    pre       rec       spe        f1       geo       iba       sup\n",
      "\n",
      "          0       1.00      1.00      0.11      1.00      0.34      0.12      7983\n",
      "          1       0.36      0.11      1.00      0.17      0.34      0.10        35\n",
      "\n",
      "avg / total       0.99      1.00      0.12      0.99      0.34      0.12      8018\n",
      "\n",
      " Sensitivity specificity support:\n",
      "(array([0.99912314, 0.11428571]), array([0.11428571, 0.99912314]), array([7983,   35]))\n",
      " Sensitivity score: 0.11428571428571428\n",
      " Specificity score: 0.999123136665414\n",
      " Geometric mean score: 0.33791345243004184\n"
     ]
    }
   ],
   "source": [
    "try:\n",
    "    from imblearn.under_sampling import RepeatedEditedNearestNeighbours\n",
    "    rebalance_train_test_logreg(X, y, RepeatedEditedNearestNeighbours(), 'RepeatedEditedNearestNeighbours',test_size)\n",
    "except:\n",
    "    print(\"Erro!\")\n"
   ],
   "metadata": {
    "collapsed": false,
    "pycharm": {
     "name": "#%%\n"
    }
   }
  },
  {
   "cell_type": "markdown",
   "source": [
    "# AllKNN"
   ],
   "metadata": {
    "collapsed": false
   }
  },
  {
   "cell_type": "code",
   "execution_count": 10,
   "outputs": [
    {
     "name": "stdout",
     "output_type": "stream",
     "text": [
      "-------------------------------AllKNN test size=0.5--------------------------------------\n",
      "----------   Standard Metrics   -------------------\n",
      " Accuracy Score: 0.9950112247443252\n",
      " Precision Score: [0.9956321 0.       ]\n",
      " Recall Score: [0.99937367 0.        ]\n",
      "----------   Imbalanced Metrics   -------------------\n",
      " Classification report imbalanced:                    pre       rec       spe        f1       geo       iba       sup\n",
      "\n",
      "          0       1.00      1.00      0.00      1.00      0.00      0.00      7983\n",
      "          1       0.00      0.00      1.00      0.00      0.00      0.00        35\n",
      "\n",
      "avg / total       0.99      1.00      0.00      0.99      0.00      0.00      8018\n",
      "\n",
      " Sensitivity specificity support:\n",
      "(array([0.99937367, 0.        ]), array([0.        , 0.99937367]), array([7983,   35]))\n",
      " Sensitivity score: 0.0\n",
      " Specificity score: 0.9993736690467243\n",
      " Geometric mean score: 0.0\n"
     ]
    }
   ],
   "source": [
    "try:\n",
    "    from imblearn.under_sampling import AllKNN\n",
    "    rebalance_train_test_logreg(X, y, AllKNN(), 'AllKNN',test_size)\n",
    "except:\n",
    "    print(\"Erro!\")"
   ],
   "metadata": {
    "collapsed": false,
    "pycharm": {
     "name": "#%%\n"
    }
   }
  },
  {
   "cell_type": "markdown",
   "source": [
    "# InstanceHardnessThreshold"
   ],
   "metadata": {
    "collapsed": false
   }
  },
  {
   "cell_type": "code",
   "execution_count": 11,
   "outputs": [
    {
     "name": "stdout",
     "output_type": "stream",
     "text": [
      "-------------------------------InstanceHardnessThreshold test size=0.5--------------------------------------\n",
      "----------   Standard Metrics   -------------------\n",
      " Accuracy Score: 0.9890246944375156\n",
      " Precision Score: [0.99710364 0.15584416]\n",
      " Recall Score: [0.9918577  0.34285714]\n",
      "----------   Imbalanced Metrics   -------------------\n",
      " Classification report imbalanced:                    pre       rec       spe        f1       geo       iba       sup\n",
      "\n",
      "          0       1.00      0.99      0.34      0.99      0.58      0.36      7983\n",
      "          1       0.16      0.34      0.99      0.21      0.58      0.32        35\n",
      "\n",
      "avg / total       0.99      0.99      0.35      0.99      0.58      0.36      8018\n",
      "\n",
      " Sensitivity specificity support:\n",
      "(array([0.9918577 , 0.34285714]), array([0.34285714, 0.9918577 ]), array([7983,   35]))\n",
      " Sensitivity score: 0.34285714285714286\n",
      " Specificity score: 0.9918576976074157\n",
      " Geometric mean score: 0.5831513494132913\n"
     ]
    }
   ],
   "source": [
    "try:\n",
    "    from imblearn.under_sampling import InstanceHardnessThreshold\n",
    "    rebalance_train_test_logreg(X, y, InstanceHardnessThreshold(), 'InstanceHardnessThreshold',test_size)\n",
    "except:\n",
    "    print(\"Erro!\")\n"
   ],
   "metadata": {
    "collapsed": false,
    "pycharm": {
     "name": "#%%\n"
    }
   }
  },
  {
   "cell_type": "markdown",
   "source": [
    "# NearMiss"
   ],
   "metadata": {
    "collapsed": false
   }
  },
  {
   "cell_type": "code",
   "execution_count": 12,
   "outputs": [
    {
     "name": "stdout",
     "output_type": "stream",
     "text": [
      "-------------------------------NearMiss test size=0.5--------------------------------------\n",
      "----------   Standard Metrics   -------------------\n",
      " Accuracy Score: 0.05562484410077326\n",
      " Precision Score: [0.98352941 0.00368761]\n",
      " Recall Score: [0.05236127 0.8       ]\n",
      "----------   Imbalanced Metrics   -------------------\n",
      " Classification report imbalanced:                    pre       rec       spe        f1       geo       iba       sup\n",
      "\n",
      "          0       0.98      0.05      0.80      0.10      0.20      0.04      7983\n",
      "          1       0.00      0.80      0.05      0.01      0.20      0.05        35\n",
      "\n",
      "avg / total       0.98      0.06      0.80      0.10      0.20      0.04      8018\n",
      "\n",
      " Sensitivity specificity support:\n",
      "(array([0.05236127, 0.8       ]), array([0.8       , 0.05236127]), array([7983,   35]))\n",
      " Sensitivity score: 0.8\n",
      " Specificity score: 0.05236126769384943\n",
      " Geometric mean score: 0.20466805846316016\n"
     ]
    }
   ],
   "source": [
    "try:\n",
    "    from imblearn.under_sampling import NearMiss\n",
    "    rebalance_train_test_logreg(X, y, NearMiss(), 'NearMiss',test_size)\n",
    "except:\n",
    "    print(\"Erro!\")"
   ],
   "metadata": {
    "collapsed": false,
    "pycharm": {
     "name": "#%%\n"
    }
   }
  },
  {
   "cell_type": "markdown",
   "source": [
    "# NeighbourhoodCleaningRule"
   ],
   "metadata": {
    "collapsed": false
   }
  },
  {
   "cell_type": "code",
   "execution_count": 13,
   "outputs": [
    {
     "name": "stdout",
     "output_type": "stream",
     "text": [
      "-------------------------------NeighbourhoodCleaningRule test size=0.5--------------------------------------\n",
      "----------   Standard Metrics   -------------------\n",
      " Accuracy Score: 0.995260663507109\n",
      " Precision Score: [0.99563319 0.        ]\n",
      " Recall Score: [0.9996242 0.       ]\n",
      "----------   Imbalanced Metrics   -------------------\n",
      " Classification report imbalanced:                    pre       rec       spe        f1       geo       iba       sup\n",
      "\n",
      "          0       1.00      1.00      0.00      1.00      0.00      0.00      7983\n",
      "          1       0.00      0.00      1.00      0.00      0.00      0.00        35\n",
      "\n",
      "avg / total       0.99      1.00      0.00      0.99      0.00      0.00      8018\n",
      "\n",
      " Sensitivity specificity support:\n",
      "(array([0.9996242, 0.       ]), array([0.       , 0.9996242]), array([7983,   35]))\n",
      " Sensitivity score: 0.0\n",
      " Specificity score: 0.9996242014280345\n",
      " Geometric mean score: 0.0\n"
     ]
    }
   ],
   "source": [
    "try:\n",
    "    from imblearn.under_sampling import NeighbourhoodCleaningRule\n",
    "    rebalance_train_test_logreg(X, y, NeighbourhoodCleaningRule(), 'NeighbourhoodCleaningRule',test_size)\n",
    "except:\n",
    "    print(\"Erro!\")"
   ],
   "metadata": {
    "collapsed": false,
    "pycharm": {
     "name": "#%%\n"
    }
   }
  },
  {
   "cell_type": "markdown",
   "source": [
    "# OneSidedSelection"
   ],
   "metadata": {
    "collapsed": false
   }
  },
  {
   "cell_type": "code",
   "execution_count": 14,
   "outputs": [
    {
     "name": "stdout",
     "output_type": "stream",
     "text": [
      "-------------------------------OneSidedSelection test size=0.5--------------------------------------\n",
      "----------   Standard Metrics   -------------------\n",
      " Accuracy Score: 0.9956348216512846\n",
      " Precision Score: [0.99563482 0.        ]\n",
      " Recall Score: [1. 0.]\n",
      "----------   Imbalanced Metrics   -------------------\n",
      " Classification report imbalanced:                    pre       rec       spe        f1       geo       iba       sup\n",
      "\n",
      "          0       1.00      1.00      0.00      1.00      0.00      0.00      7983\n",
      "          1       0.00      0.00      1.00      0.00      0.00      0.00        35\n",
      "\n",
      "avg / total       0.99      1.00      0.00      0.99      0.00      0.00      8018\n",
      "\n",
      " Sensitivity specificity support:\n",
      "(array([1., 0.]), array([0., 1.]), array([7983,   35]))\n",
      " Sensitivity score: 0.0\n",
      " Specificity score: 1.0\n",
      " Geometric mean score: 0.0\n"
     ]
    },
    {
     "name": "stderr",
     "output_type": "stream",
     "text": [
      "/Users/pedro/Library/Python/3.7/lib/python/site-packages/sklearn/metrics/_classification.py:1221: UndefinedMetricWarning: Precision is ill-defined and being set to 0.0 in labels with no predicted samples. Use `zero_division` parameter to control this behavior.\n",
      "  _warn_prf(average, modifier, msg_start, len(result))\n",
      "/Users/pedro/Library/Python/3.7/lib/python/site-packages/sklearn/metrics/_classification.py:1221: UndefinedMetricWarning: Precision and F-score are ill-defined and being set to 0.0 in labels with no predicted samples. Use `zero_division` parameter to control this behavior.\n",
      "  _warn_prf(average, modifier, msg_start, len(result))\n"
     ]
    }
   ],
   "source": [
    "try:\n",
    "    from imblearn.under_sampling import OneSidedSelection\n",
    "    rebalance_train_test_logreg(X, y, OneSidedSelection(), 'OneSidedSelection',test_size)\n",
    "except:\n",
    "    print(\"Erro!\")"
   ],
   "metadata": {
    "collapsed": false,
    "pycharm": {
     "name": "#%%\n"
    }
   }
  },
  {
   "cell_type": "markdown",
   "source": [
    "# RandomUnderSampler"
   ],
   "metadata": {
    "collapsed": false
   }
  },
  {
   "cell_type": "code",
   "execution_count": 15,
   "outputs": [
    {
     "name": "stdout",
     "output_type": "stream",
     "text": [
      "-------------------------------RandomUnderSampler test size=0.5--------------------------------------\n",
      "----------   Standard Metrics   -------------------\n",
      " Accuracy Score: 0.8167872287353455\n",
      " Precision Score: [0.99953988 0.02136182]\n",
      " Recall Score: [0.81635976 0.91428571]\n",
      "----------   Imbalanced Metrics   -------------------\n",
      " Classification report imbalanced:                    pre       rec       spe        f1       geo       iba       sup\n",
      "\n",
      "          0       1.00      0.82      0.91      0.90      0.86      0.74      7983\n",
      "          1       0.02      0.91      0.82      0.04      0.86      0.75        35\n",
      "\n",
      "avg / total       1.00      0.82      0.91      0.89      0.86      0.74      8018\n",
      "\n",
      " Sensitivity specificity support:\n",
      "(array([0.81635976, 0.91428571]), array([0.91428571, 0.81635976]), array([7983,   35]))\n",
      " Sensitivity score: 0.9142857142857143\n",
      " Specificity score: 0.8163597644995616\n",
      " Geometric mean score: 0.8639363809908686\n"
     ]
    }
   ],
   "source": [
    "try:\n",
    "    from imblearn.under_sampling import RandomUnderSampler\n",
    "    rebalance_train_test_logreg(X, y, RandomUnderSampler(), 'RandomUnderSampler',test_size)\n",
    "except:\n",
    "    print(\"Erro!\")"
   ],
   "metadata": {
    "collapsed": false,
    "pycharm": {
     "name": "#%%\n"
    }
   }
  },
  {
   "cell_type": "markdown",
   "source": [
    "# TomekLinks"
   ],
   "metadata": {
    "collapsed": false
   }
  },
  {
   "cell_type": "code",
   "execution_count": 16,
   "outputs": [
    {
     "name": "stdout",
     "output_type": "stream",
     "text": [
      "-------------------------------TomekLinks test size=0.5--------------------------------------\n",
      "----------   Standard Metrics   -------------------\n",
      " Accuracy Score: 0.9956348216512846\n",
      " Precision Score: [0.99563482 0.        ]\n",
      " Recall Score: [1. 0.]\n",
      "----------   Imbalanced Metrics   -------------------\n",
      " Classification report imbalanced:                    pre       rec       spe        f1       geo       iba       sup\n",
      "\n",
      "          0       1.00      1.00      0.00      1.00      0.00      0.00      7983\n",
      "          1       0.00      0.00      1.00      0.00      0.00      0.00        35\n",
      "\n",
      "avg / total       0.99      1.00      0.00      0.99      0.00      0.00      8018\n",
      "\n",
      " Sensitivity specificity support:\n",
      "(array([1., 0.]), array([0., 1.]), array([7983,   35]))\n",
      " Sensitivity score: 0.0\n",
      " Specificity score: 1.0\n",
      " Geometric mean score: 0.0\n"
     ]
    },
    {
     "name": "stderr",
     "output_type": "stream",
     "text": [
      "/Users/pedro/Library/Python/3.7/lib/python/site-packages/sklearn/metrics/_classification.py:1221: UndefinedMetricWarning: Precision is ill-defined and being set to 0.0 in labels with no predicted samples. Use `zero_division` parameter to control this behavior.\n",
      "  _warn_prf(average, modifier, msg_start, len(result))\n",
      "/Users/pedro/Library/Python/3.7/lib/python/site-packages/sklearn/metrics/_classification.py:1221: UndefinedMetricWarning: Precision and F-score are ill-defined and being set to 0.0 in labels with no predicted samples. Use `zero_division` parameter to control this behavior.\n",
      "  _warn_prf(average, modifier, msg_start, len(result))\n"
     ]
    }
   ],
   "source": [
    "try:\n",
    "    from imblearn.under_sampling import TomekLinks\n",
    "    rebalance_train_test_logreg(X, y, TomekLinks(), 'TomekLinks',test_size)\n",
    "except:\n",
    "    print(\"Erro!\")"
   ],
   "metadata": {
    "collapsed": false,
    "pycharm": {
     "name": "#%%\n"
    }
   }
  },
  {
   "cell_type": "markdown",
   "source": [
    "# ADASYN"
   ],
   "metadata": {
    "collapsed": false
   }
  },
  {
   "cell_type": "code",
   "execution_count": 17,
   "outputs": [
    {
     "name": "stdout",
     "output_type": "stream",
     "text": [
      "-------------------------------ADASYN test size=0.5--------------------------------------\n",
      "----------   Standard Metrics   -------------------\n",
      " Accuracy Score: 0.8611873285108506\n",
      " Precision Score: [0.99869338 0.02300885]\n",
      " Recall Score: [0.86170613 0.74285714]\n",
      "----------   Imbalanced Metrics   -------------------\n",
      " Classification report imbalanced:                    pre       rec       spe        f1       geo       iba       sup\n",
      "\n",
      "          0       1.00      0.86      0.74      0.93      0.80      0.65      7983\n",
      "          1       0.02      0.74      0.86      0.04      0.80      0.63        35\n",
      "\n",
      "avg / total       0.99      0.86      0.74      0.92      0.80      0.65      8018\n",
      "\n",
      " Sensitivity specificity support:\n",
      "(array([0.86170613, 0.74285714]), array([0.74285714, 0.86170613]), array([7983,   35]))\n",
      " Sensitivity score: 0.7428571428571429\n",
      " Specificity score: 0.861706125516723\n",
      " Geometric mean score: 0.8000778402029713\n"
     ]
    },
    {
     "name": "stderr",
     "output_type": "stream",
     "text": [
      "/Users/pedro/Library/Python/3.7/lib/python/site-packages/sklearn/linear_model/_logistic.py:764: ConvergenceWarning: lbfgs failed to converge (status=1):\n",
      "STOP: TOTAL NO. of ITERATIONS REACHED LIMIT.\n",
      "\n",
      "Increase the number of iterations (max_iter) or scale the data as shown in:\n",
      "    https://scikit-learn.org/stable/modules/preprocessing.html\n",
      "Please also refer to the documentation for alternative solver options:\n",
      "    https://scikit-learn.org/stable/modules/linear_model.html#logistic-regression\n",
      "  extra_warning_msg=_LOGISTIC_SOLVER_CONVERGENCE_MSG)\n"
     ]
    }
   ],
   "source": [
    "try:\n",
    "    from imblearn.over_sampling import ADASYN\n",
    "    rebalance_train_test_logreg(X, y, ADASYN(), 'ADASYN',test_size)\n",
    "except:\n",
    "    print(\"Erro!\")"
   ],
   "metadata": {
    "collapsed": false,
    "pycharm": {
     "name": "#%%\n"
    }
   }
  },
  {
   "cell_type": "markdown",
   "source": [
    "# BorderlineSMOTE"
   ],
   "metadata": {
    "collapsed": false
   }
  },
  {
   "cell_type": "code",
   "execution_count": 18,
   "outputs": [
    {
     "name": "stdout",
     "output_type": "stream",
     "text": [
      "-------------------------------BorderlineSMOTE test size=0.5--------------------------------------\n",
      "----------   Standard Metrics   -------------------\n",
      " Accuracy Score: 0.946994262908456\n",
      " Precision Score: [0.99749868 0.03791469]\n",
      " Recall Score: [0.94914193 0.45714286]\n",
      "----------   Imbalanced Metrics   -------------------\n",
      " Classification report imbalanced:                    pre       rec       spe        f1       geo       iba       sup\n",
      "\n",
      "          0       1.00      0.95      0.46      0.97      0.66      0.46      7983\n",
      "          1       0.04      0.46      0.95      0.07      0.66      0.41        35\n",
      "\n",
      "avg / total       0.99      0.95      0.46      0.97      0.66      0.46      8018\n",
      "\n",
      " Sensitivity specificity support:\n",
      "(array([0.94914193, 0.45714286]), array([0.45714286, 0.94914193]), array([7983,   35]))\n",
      " Sensitivity score: 0.45714285714285713\n",
      " Specificity score: 0.9491419265940123\n",
      " Geometric mean score: 0.6587058920013261\n"
     ]
    },
    {
     "name": "stderr",
     "output_type": "stream",
     "text": [
      "/Users/pedro/Library/Python/3.7/lib/python/site-packages/sklearn/linear_model/_logistic.py:764: ConvergenceWarning: lbfgs failed to converge (status=1):\n",
      "STOP: TOTAL NO. of ITERATIONS REACHED LIMIT.\n",
      "\n",
      "Increase the number of iterations (max_iter) or scale the data as shown in:\n",
      "    https://scikit-learn.org/stable/modules/preprocessing.html\n",
      "Please also refer to the documentation for alternative solver options:\n",
      "    https://scikit-learn.org/stable/modules/linear_model.html#logistic-regression\n",
      "  extra_warning_msg=_LOGISTIC_SOLVER_CONVERGENCE_MSG)\n"
     ]
    }
   ],
   "source": [
    "try:\n",
    "    from imblearn.over_sampling import BorderlineSMOTE\n",
    "    rebalance_train_test_logreg(X, y, BorderlineSMOTE(), 'BorderlineSMOTE',test_size)\n",
    "except:\n",
    "    print(\"Erro!\")"
   ],
   "metadata": {
    "collapsed": false,
    "pycharm": {
     "name": "#%%\n"
    }
   }
  },
  {
   "cell_type": "markdown",
   "source": [
    "# KMeansSMOTE"
   ],
   "metadata": {
    "collapsed": false
   }
  },
  {
   "cell_type": "code",
   "execution_count": 19,
   "outputs": [
    {
     "name": "stdout",
     "output_type": "stream",
     "text": [
      "Erro!\n"
     ]
    }
   ],
   "source": [
    "try:\n",
    "    from imblearn.over_sampling import KMeansSMOTE\n",
    "    rebalance_train_test_logreg(X, y, KMeansSMOTE(), 'KMeansSMOTE',test_size)\n",
    "except:\n",
    "    print(\"Erro!\")"
   ],
   "metadata": {
    "collapsed": false,
    "pycharm": {
     "name": "#%%\n"
    }
   }
  },
  {
   "cell_type": "markdown",
   "source": [
    "# RandomOverSampler"
   ],
   "metadata": {
    "collapsed": false
   }
  },
  {
   "cell_type": "code",
   "execution_count": 20,
   "outputs": [
    {
     "name": "stdout",
     "output_type": "stream",
     "text": [
      "-------------------------------RandomOverSampler test size=0.5--------------------------------------\n",
      "----------   Standard Metrics   -------------------\n",
      " Accuracy Score: 0.8618109254178099\n",
      " Precision Score: [0.99869433 0.02311111]\n",
      " Recall Score: [0.86233246 0.74285714]\n",
      "----------   Imbalanced Metrics   -------------------\n",
      " Classification report imbalanced:                    pre       rec       spe        f1       geo       iba       sup\n",
      "\n",
      "          0       1.00      0.86      0.74      0.93      0.80      0.65      7983\n",
      "          1       0.02      0.74      0.86      0.04      0.80      0.63        35\n",
      "\n",
      "avg / total       0.99      0.86      0.74      0.92      0.80      0.65      8018\n",
      "\n",
      " Sensitivity specificity support:\n",
      "(array([0.86233246, 0.74285714]), array([0.74285714, 0.86233246]), array([7983,   35]))\n",
      " Sensitivity score: 0.7428571428571429\n",
      " Specificity score: 0.8623324564699988\n",
      " Geometric mean score: 0.8003685556081553\n"
     ]
    },
    {
     "name": "stderr",
     "output_type": "stream",
     "text": [
      "/Users/pedro/Library/Python/3.7/lib/python/site-packages/sklearn/linear_model/_logistic.py:764: ConvergenceWarning: lbfgs failed to converge (status=1):\n",
      "STOP: TOTAL NO. of ITERATIONS REACHED LIMIT.\n",
      "\n",
      "Increase the number of iterations (max_iter) or scale the data as shown in:\n",
      "    https://scikit-learn.org/stable/modules/preprocessing.html\n",
      "Please also refer to the documentation for alternative solver options:\n",
      "    https://scikit-learn.org/stable/modules/linear_model.html#logistic-regression\n",
      "  extra_warning_msg=_LOGISTIC_SOLVER_CONVERGENCE_MSG)\n"
     ]
    }
   ],
   "source": [
    "try:\n",
    "    from imblearn.over_sampling import RandomOverSampler\n",
    "    rebalance_train_test_logreg(X, y, RandomOverSampler(), 'RandomOverSampler',test_size)\n",
    "except:\n",
    "    print(\"Erro!\")"
   ],
   "metadata": {
    "collapsed": false,
    "pycharm": {
     "name": "#%%\n"
    }
   }
  },
  {
   "cell_type": "markdown",
   "source": [
    "# SMOTE"
   ],
   "metadata": {
    "collapsed": false
   }
  },
  {
   "cell_type": "code",
   "execution_count": 21,
   "outputs": [
    {
     "name": "stdout",
     "output_type": "stream",
     "text": [
      "-------------------------------SMOTE test size=0.5--------------------------------------\n",
      "----------   Standard Metrics   -------------------\n",
      " Accuracy Score: 0.8699176852082814\n",
      " Precision Score: [0.99856322 0.02362949]\n",
      " Recall Score: [0.87060003 0.71428571]\n",
      "----------   Imbalanced Metrics   -------------------\n",
      " Classification report imbalanced:                    pre       rec       spe        f1       geo       iba       sup\n",
      "\n",
      "          0       1.00      0.87      0.71      0.93      0.79      0.63      7983\n",
      "          1       0.02      0.71      0.87      0.05      0.79      0.61        35\n",
      "\n",
      "avg / total       0.99      0.87      0.71      0.93      0.79      0.63      8018\n",
      "\n",
      " Sensitivity specificity support:\n",
      "(array([0.87060003, 0.71428571]), array([0.71428571, 0.87060003]), array([7983,   35]))\n",
      " Sensitivity score: 0.7142857142857143\n",
      " Specificity score: 0.8706000250532381\n",
      " Geometric mean score: 0.788579203854827\n"
     ]
    },
    {
     "name": "stderr",
     "output_type": "stream",
     "text": [
      "/Users/pedro/Library/Python/3.7/lib/python/site-packages/sklearn/linear_model/_logistic.py:764: ConvergenceWarning: lbfgs failed to converge (status=1):\n",
      "STOP: TOTAL NO. of ITERATIONS REACHED LIMIT.\n",
      "\n",
      "Increase the number of iterations (max_iter) or scale the data as shown in:\n",
      "    https://scikit-learn.org/stable/modules/preprocessing.html\n",
      "Please also refer to the documentation for alternative solver options:\n",
      "    https://scikit-learn.org/stable/modules/linear_model.html#logistic-regression\n",
      "  extra_warning_msg=_LOGISTIC_SOLVER_CONVERGENCE_MSG)\n"
     ]
    }
   ],
   "source": [
    "try:\n",
    "    from imblearn.over_sampling import SMOTE\n",
    "    rebalance_train_test_logreg(X, y, SMOTE(), 'SMOTE',test_size)\n",
    "except:\n",
    "    print(\"Erro!\")"
   ],
   "metadata": {
    "collapsed": false,
    "pycharm": {
     "name": "#%%\n"
    }
   }
  },
  {
   "cell_type": "markdown",
   "source": [
    "# SMOTENC"
   ],
   "metadata": {
    "collapsed": false
   }
  },
  {
   "cell_type": "code",
   "execution_count": 22,
   "outputs": [
    {
     "name": "stdout",
     "output_type": "stream",
     "text": [
      "Erro!\n"
     ]
    }
   ],
   "source": [
    "try:\n",
    "    from imblearn.over_sampling import SMOTENC\n",
    "    rebalance_train_test_logreg(X, y, SMOTENC(), 'SMOTENC',test_size)\n",
    "except:\n",
    "    print(\"Erro!\")"
   ],
   "metadata": {
    "collapsed": false,
    "pycharm": {
     "name": "#%%\n"
    }
   }
  },
  {
   "cell_type": "markdown",
   "source": [
    "# SVMSMOTE"
   ],
   "metadata": {
    "collapsed": false
   }
  },
  {
   "cell_type": "code",
   "execution_count": 23,
   "outputs": [
    {
     "name": "stdout",
     "output_type": "stream",
     "text": [
      "-------------------------------SVMSMOTE test size=0.5--------------------------------------\n",
      "----------   Standard Metrics   -------------------\n",
      " Accuracy Score: 0.9598403591918184\n",
      " Precision Score: [0.99740293 0.04731861]\n",
      " Recall Score: [0.96216961 0.42857143]\n",
      "----------   Imbalanced Metrics   -------------------\n",
      " Classification report imbalanced:                    pre       rec       spe        f1       geo       iba       sup\n",
      "\n",
      "          0       1.00      0.96      0.43      0.98      0.64      0.43      7983\n",
      "          1       0.05      0.43      0.96      0.09      0.64      0.39        35\n",
      "\n",
      "avg / total       0.99      0.96      0.43      0.98      0.64      0.43      8018\n",
      "\n",
      " Sensitivity specificity support:\n",
      "(array([0.96216961, 0.42857143]), array([0.42857143, 0.96216961]), array([7983,   35]))\n",
      " Sensitivity score: 0.42857142857142855\n",
      " Specificity score: 0.9621696104221471\n",
      " Geometric mean score: 0.6421513874988004\n"
     ]
    },
    {
     "name": "stderr",
     "output_type": "stream",
     "text": [
      "/Users/pedro/Library/Python/3.7/lib/python/site-packages/sklearn/linear_model/_logistic.py:764: ConvergenceWarning: lbfgs failed to converge (status=1):\n",
      "STOP: TOTAL NO. of ITERATIONS REACHED LIMIT.\n",
      "\n",
      "Increase the number of iterations (max_iter) or scale the data as shown in:\n",
      "    https://scikit-learn.org/stable/modules/preprocessing.html\n",
      "Please also refer to the documentation for alternative solver options:\n",
      "    https://scikit-learn.org/stable/modules/linear_model.html#logistic-regression\n",
      "  extra_warning_msg=_LOGISTIC_SOLVER_CONVERGENCE_MSG)\n"
     ]
    }
   ],
   "source": [
    "try:\n",
    "    from imblearn.over_sampling import SVMSMOTE\n",
    "    rebalance_train_test_logreg(X, y, SVMSMOTE(), 'SVMSMOTE',test_size)\n",
    "except:\n",
    "    print(\"Erro!\")"
   ],
   "metadata": {
    "collapsed": false,
    "pycharm": {
     "name": "#%%\n"
    }
   }
  },
  {
   "cell_type": "markdown",
   "source": [
    "# SMOTEENN"
   ],
   "metadata": {
    "collapsed": false
   }
  },
  {
   "cell_type": "code",
   "execution_count": 24,
   "outputs": [
    {
     "name": "stdout",
     "output_type": "stream",
     "text": [
      "-------------------------------SMOTEENN test size=0.5--------------------------------------\n",
      "----------   Standard Metrics   -------------------\n",
      " Accuracy Score: 0.865552506859566\n",
      " Precision Score: [0.99869999 0.02374429]\n",
      " Recall Score: [0.86609044 0.74285714]\n",
      "----------   Imbalanced Metrics   -------------------\n",
      " Classification report imbalanced:                    pre       rec       spe        f1       geo       iba       sup\n",
      "\n",
      "          0       1.00      0.87      0.74      0.93      0.80      0.65      7983\n",
      "          1       0.02      0.74      0.87      0.05      0.80      0.64        35\n",
      "\n",
      "avg / total       0.99      0.87      0.74      0.92      0.80      0.65      8018\n",
      "\n",
      " Sensitivity specificity support:\n",
      "(array([0.86609044, 0.74285714]), array([0.74285714, 0.86609044]), array([7983,   35]))\n",
      " Sensitivity score: 0.7428571428571429\n",
      " Specificity score: 0.866090442189653\n",
      " Geometric mean score: 0.8021106353495664\n"
     ]
    },
    {
     "name": "stderr",
     "output_type": "stream",
     "text": [
      "/Users/pedro/Library/Python/3.7/lib/python/site-packages/sklearn/linear_model/_logistic.py:764: ConvergenceWarning: lbfgs failed to converge (status=1):\n",
      "STOP: TOTAL NO. of ITERATIONS REACHED LIMIT.\n",
      "\n",
      "Increase the number of iterations (max_iter) or scale the data as shown in:\n",
      "    https://scikit-learn.org/stable/modules/preprocessing.html\n",
      "Please also refer to the documentation for alternative solver options:\n",
      "    https://scikit-learn.org/stable/modules/linear_model.html#logistic-regression\n",
      "  extra_warning_msg=_LOGISTIC_SOLVER_CONVERGENCE_MSG)\n"
     ]
    }
   ],
   "source": [
    "try:\n",
    "    from imblearn.combine import SMOTEENN\n",
    "    rebalance_train_test_logreg(X, y, SMOTEENN(), 'SMOTEENN',test_size)\n",
    "except:\n",
    "    print(\"Erro!\")"
   ],
   "metadata": {
    "collapsed": false,
    "pycharm": {
     "name": "#%%\n"
    }
   }
  },
  {
   "cell_type": "markdown",
   "source": [
    "# SMOTETomek"
   ],
   "metadata": {
    "collapsed": false
   }
  },
  {
   "cell_type": "code",
   "execution_count": 25,
   "outputs": [
    {
     "name": "stdout",
     "output_type": "stream",
     "text": [
      "-------------------------------SMOTETomek test size=0.5--------------------------------------\n",
      "----------   Standard Metrics   -------------------\n",
      " Accuracy Score: 0.8670491394362684\n",
      " Precision Score: [0.99870224 0.02400739]\n",
      " Recall Score: [0.86759364 0.74285714]\n",
      "----------   Imbalanced Metrics   -------------------\n",
      " Classification report imbalanced:                    pre       rec       spe        f1       geo       iba       sup\n",
      "\n",
      "          0       1.00      0.87      0.74      0.93      0.80      0.65      7983\n",
      "          1       0.02      0.74      0.87      0.05      0.80      0.64        35\n",
      "\n",
      "avg / total       0.99      0.87      0.74      0.92      0.80      0.65      8018\n",
      "\n",
      " Sensitivity specificity support:\n",
      "(array([0.86759364, 0.74285714]), array([0.74285714, 0.86759364]), array([7983,   35]))\n",
      " Sensitivity score: 0.7428571428571429\n",
      " Specificity score: 0.8675936364775148\n",
      " Geometric mean score: 0.8028064087653544\n"
     ]
    },
    {
     "name": "stderr",
     "output_type": "stream",
     "text": [
      "/Users/pedro/Library/Python/3.7/lib/python/site-packages/sklearn/linear_model/_logistic.py:764: ConvergenceWarning: lbfgs failed to converge (status=1):\n",
      "STOP: TOTAL NO. of ITERATIONS REACHED LIMIT.\n",
      "\n",
      "Increase the number of iterations (max_iter) or scale the data as shown in:\n",
      "    https://scikit-learn.org/stable/modules/preprocessing.html\n",
      "Please also refer to the documentation for alternative solver options:\n",
      "    https://scikit-learn.org/stable/modules/linear_model.html#logistic-regression\n",
      "  extra_warning_msg=_LOGISTIC_SOLVER_CONVERGENCE_MSG)\n"
     ]
    }
   ],
   "source": [
    "try:\n",
    "    from imblearn.combine import SMOTETomek\n",
    "    rebalance_train_test_logreg(X, y, SMOTETomek(), 'SMOTETomek',test_size)\n",
    "except:\n",
    "    print(\"Erro!\")\n"
   ],
   "metadata": {
    "collapsed": false,
    "pycharm": {
     "name": "#%%\n"
    }
   }
  },
  {
   "cell_type": "markdown",
   "source": [
    "# BalancedBaggingClassifier"
   ],
   "metadata": {
    "collapsed": false
   }
  },
  {
   "cell_type": "code",
   "execution_count": 26,
   "outputs": [
    {
     "name": "stdout",
     "output_type": "stream",
     "text": [
      "Erro!\n"
     ]
    }
   ],
   "source": [
    "try:\n",
    "    from imblearn.ensemble import BalancedBaggingClassifier\n",
    "    rebalance_train_test_logreg(X, y, BalancedBaggingClassifier(), 'BalancedBaggingClassifier',test_size)\n",
    "except:\n",
    "    print(\"Erro!\")"
   ],
   "metadata": {
    "collapsed": false,
    "pycharm": {
     "name": "#%%\n"
    }
   }
  },
  {
   "cell_type": "markdown",
   "source": [
    "# BalancedRandomForestClassifier"
   ],
   "metadata": {
    "collapsed": false
   }
  },
  {
   "cell_type": "code",
   "execution_count": 27,
   "outputs": [
    {
     "name": "stdout",
     "output_type": "stream",
     "text": [
      "Erro!\n"
     ]
    }
   ],
   "source": [
    "try:\n",
    "    from imblearn.ensemble import BalancedRandomForestClassifier\n",
    "    rebalance_train_test_logreg(X, y, BalancedRandomForestClassifier(), 'BalancedRandomForestClassifier',test_size)\n",
    "except:\n",
    "    print(\"Erro!\")"
   ],
   "metadata": {
    "collapsed": false,
    "pycharm": {
     "name": "#%%\n"
    }
   }
  },
  {
   "cell_type": "markdown",
   "source": [
    "# EasyEnsemble"
   ],
   "metadata": {
    "collapsed": false
   }
  },
  {
   "cell_type": "code",
   "execution_count": 28,
   "outputs": [
    {
     "name": "stdout",
     "output_type": "stream",
     "text": [
      "Erro!\n"
     ]
    }
   ],
   "source": [
    "try:\n",
    "    from imblearn.ensemble import EasyEnsembleClassifier\n",
    "    rebalance_train_test_logreg(X, y, EasyEnsembleClassifier(), 'EasyEnsembleClassifier',test_size)\n",
    "except:\n",
    "    print(\"Erro!\")"
   ],
   "metadata": {
    "collapsed": false,
    "pycharm": {
     "name": "#%%\n"
    }
   }
  },
  {
   "cell_type": "markdown",
   "source": [
    "# RUSBoostClassifier"
   ],
   "metadata": {
    "collapsed": false
   }
  },
  {
   "cell_type": "code",
   "execution_count": 29,
   "outputs": [
    {
     "name": "stdout",
     "output_type": "stream",
     "text": [
      "Erro!\n"
     ]
    }
   ],
   "source": [
    "try:\n",
    "    from imblearn.ensemble import RUSBoostClassifier\n",
    "    rebalance_train_test_logreg(X, y, RUSBoostClassifier(), 'RUSBoostClassifier',test_size)\n",
    "except:\n",
    "    print(\"Erro!\")\n"
   ],
   "metadata": {
    "collapsed": false,
    "pycharm": {
     "name": "#%%\n"
    }
   }
  },
  {
   "cell_type": "markdown",
   "source": [
    "# RUSBoostClassifier"
   ],
   "metadata": {
    "collapsed": false
   }
  },
  {
   "cell_type": "code",
   "execution_count": 30,
   "outputs": [
    {
     "name": "stdout",
     "output_type": "stream",
     "text": [
      "Erro!\n"
     ]
    }
   ],
   "source": [
    "try:\n",
    "    from imblearn.ensemble import RUSBoostClassifier\n",
    "    rebalance_train_test_logreg(X, y, RUSBoostClassifier(), 'RUSBoostClassifier',test_size)\n",
    "except:\n",
    "    print(\"Erro!\")\n"
   ],
   "metadata": {
    "collapsed": false,
    "pycharm": {
     "name": "#%%\n"
    }
   }
  }
 ],
 "metadata": {
  "kernelspec": {
   "display_name": "Python 3",
   "language": "python",
   "name": "python3"
  },
  "language_info": {
   "codemirror_mode": {
    "name": "ipython",
    "version": 2
   },
   "file_extension": ".py",
   "mimetype": "text/x-python",
   "name": "python",
   "nbconvert_exporter": "python",
   "pygments_lexer": "ipython2",
   "version": "2.7.6"
  },
  "pycharm": {
   "stem_cell": {
    "cell_type": "raw",
    "source": [
     "\n"
    ],
    "metadata": {
     "collapsed": false
    }
   }
  }
 },
 "nbformat": 4,
 "nbformat_minor": 0
}