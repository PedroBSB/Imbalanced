{
 "cells": [
  {
   "cell_type": "markdown",
   "source": [
    "Lê os dados:"
   ],
   "metadata": {
    "collapsed": false
   }
  },
  {
   "cell_type": "code",
   "execution_count": 61,
   "outputs": [],
   "source": [
    "import pandas as pd\n",
    "df = pd.read_csv(\"Base_Dissertacaov10.csv\",sep=';',decimal=\",\",encoding = \"latin\")\n",
    "# print(df.head())"
   ],
   "metadata": {
    "collapsed": false,
    "pycharm": {
     "name": "#%%\n"
    }
   }
  },
  {
   "cell_type": "code",
   "execution_count": 62,
   "outputs": [],
   "source": [
    "from sklearn import preprocessing\n",
    "from sklearn.model_selection import train_test_split\n",
    "#Cria os dados\n",
    "y = df[\"AUTO\"].to_numpy()\n",
    "X = df.iloc[:,3:-1]\n",
    "X_train, X_test, y_train, y_test = train_test_split(X, y, test_size = 0.2, random_state = 12345)\n",
    "\n",
    "#Padroniza os dados\n",
    "scaler = preprocessing.StandardScaler().fit(X_train)\n",
    "X_train = scaler.transform(X_train)\n",
    "X_test = scaler.transform(X_test)"
   ],
   "metadata": {
    "collapsed": false,
    "pycharm": {
     "name": "#%%\n"
    }
   }
  },
  {
   "cell_type": "markdown",
   "source": [
    "# Random Over Sampler"
   ],
   "metadata": {
    "collapsed": false
   }
  },
  {
   "cell_type": "code",
   "execution_count": 63,
   "outputs": [],
   "source": [
    "from imblearn.over_sampling import RandomOverSampler\n",
    "ros = RandomOverSampler(random_state=12345)\n",
    "X_resampled, y_resampled = ros.fit_resample(X_train, y_train)"
   ],
   "metadata": {
    "collapsed": false,
    "pycharm": {
     "name": "#%%\n"
    }
   }
  },
  {
   "cell_type": "code",
   "execution_count": 64,
   "outputs": [
    {
     "name": "stdout",
     "output_type": "stream",
     "text": [
      " Accuracy Score: 0.9943872778297475\n",
      " Precision Score: [0.99438728 0.        ]\n",
      " Recall Score: [1. 0.]\n"
     ]
    },
    {
     "name": "stderr",
     "output_type": "stream",
     "text": [
      "/Users/pedro/Library/Python/3.7/lib/python/site-packages/sklearn/metrics/_classification.py:1221: UndefinedMetricWarning: Precision is ill-defined and being set to 0.0 in labels with no predicted samples. Use `zero_division` parameter to control this behavior.\n",
      "  _warn_prf(average, modifier, msg_start, len(result))\n"
     ]
    }
   ],
   "source": [
    "from sklearn.linear_model import LogisticRegression\n",
    "from sklearn.metrics import accuracy_score, precision_score, recall_score\n",
    "logreg = LogisticRegression(solver = 'lbfgs', multi_class = 'auto')\n",
    "logreg.fit(X_train, y_train)\n",
    "y_pred = logreg.predict(X_test)\n",
    "print(f' Accuracy Score: {accuracy_score(y_test, y_pred)}')\n",
    "print(f' Precision Score: {precision_score(y_test, y_pred, average = None)}')\n",
    "print(f' Recall Score: {recall_score(y_test, y_pred, average = None)}')\n"
   ],
   "metadata": {
    "collapsed": false,
    "pycharm": {
     "name": "#%%\n"
    }
   }
  },
  {
   "cell_type": "markdown",
   "source": [
    "# Random Over Sampler\n",
    "Copiado de : https://audreymychan.com/unbalancedclasses.html"
   ],
   "metadata": {
    "collapsed": false
   }
  },
  {
   "cell_type": "code",
   "execution_count": 65,
   "outputs": [],
   "source": [
    "# Method to rebalance train data, model a logistic regression, and output charts for predictions on test data\n",
    "# Inputs: X data, y data, rebalance algorithm (i.e. SMOTE()), rebalancing_title as a str (i.e. 'SMOTE')\n",
    "from imblearn.metrics import classification_report_imbalanced, sensitivity_specificity_support,sensitivity_score,specificity_score,geometric_mean_score, make_index_balanced_accuracy\n",
    "def rebalance_train_test_logreg(X, y, rebalance_alg, rebalancing_title, test_size=0.1):\n",
    "\n",
    "    # Split the data\n",
    "    X_train, X_test, y_train, y_test = train_test_split(X, y, test_size = test_size, random_state = 12345)\n",
    "    scaler = preprocessing.StandardScaler().fit(X_train)\n",
    "    X_train = scaler.transform(X_train)\n",
    "    X_test = scaler.transform(X_test)\n",
    "\n",
    "    # Rebalance train data\n",
    "    rebalance = rebalance_alg\n",
    "    X_reb, y_reb = rebalance.fit_sample(X_train, y_train)\n",
    "\n",
    "    # Train a Logistic Regression model on resampled data\n",
    "    logreg = LogisticRegression(solver = 'lbfgs', multi_class = 'auto')\n",
    "    logreg.fit(X_reb, y_reb)\n",
    "\n",
    "    # Generate predictions\n",
    "    y_pred = logreg.predict(X_test)\n",
    "\n",
    "    # Print out metrics\n",
    "    print(f'-------------------------------{rebalancing_title} test size={test_size}--------------------------------------')\n",
    "    print(\"----------   Standard Metrics   -------------------\")\n",
    "    print(f' Accuracy Score: {accuracy_score(y_test, y_pred)}')\n",
    "    print(f' Precision Score: {precision_score(y_test, y_pred, average = None)}')\n",
    "    print(f' Recall Score: {recall_score(y_test, y_pred, average = None)}')\n",
    "    print(\"----------   Imbalanced Metrics   -------------------\")\n",
    "    print(f' Classification report imbalanced: {classification_report_imbalanced(y_test, y_pred)}')\n",
    "    print(f' Sensitivity specificity support:')\n",
    "    print(sensitivity_specificity_support(y_test, y_pred))\n",
    "    print(f' Sensitivity score: {sensitivity_score(y_test, y_pred)}')\n",
    "    print(f' Specificity score: {specificity_score(y_test, y_pred)}')\n",
    "    print(f' Geometric mean score: {geometric_mean_score(y_test, y_pred)}')\n",
    "\n",
    "    return None\n"
   ],
   "metadata": {
    "collapsed": false,
    "pycharm": {
     "name": "#%%\n"
    }
   }
  },
  {
   "cell_type": "markdown",
   "source": [
    "# ClusterCentroids"
   ],
   "metadata": {
    "collapsed": false
   }
  },
  {
   "cell_type": "code",
   "execution_count": 66,
   "outputs": [
    {
     "name": "stdout",
     "output_type": "stream",
     "text": [
      "-------------------------------ClusterCentroids test size=0.2--------------------------------------\n",
      "----------   Standard Metrics   -------------------\n",
      " Accuracy Score: 0.8200810726535703\n",
      " Precision Score: [0.99771341 0.02058319]\n",
      " Recall Score: [0.82094701 0.66666667]\n",
      "----------   Imbalanced Metrics   -------------------\n",
      " Classification report imbalanced:                    pre       rec       spe        f1       geo       iba       sup\n",
      "\n",
      "          0       1.00      0.82      0.67      0.90      0.74      0.56      3189\n",
      "          1       0.02      0.67      0.82      0.04      0.74      0.54        18\n",
      "\n",
      "avg / total       0.99      0.82      0.67      0.90      0.74      0.56      3207\n",
      "\n",
      " Sensitivity specificity support:\n",
      "(array([0.82094701, 0.66666667]), array([0.66666667, 0.82094701]), array([3189,   18]))\n",
      " Sensitivity score: 0.6666666666666666\n",
      " Specificity score: 0.8209470053308248\n",
      " Geometric mean score: 0.7397959202062979\n"
     ]
    }
   ],
   "source": [
    "test_size=0.1\n",
    "try:\n",
    "    from imblearn.under_sampling import ClusterCentroids\n",
    "    rebalance_train_test_logreg(X, y, ClusterCentroids(), 'ClusterCentroids',test_size)\n",
    "except:\n",
    "    print(\"Erro!\")\n"
   ],
   "metadata": {
    "collapsed": false,
    "pycharm": {
     "name": "#%%\n"
    }
   }
  },
  {
   "cell_type": "markdown",
   "source": [
    "# CondensedNearestNeighbour"
   ],
   "metadata": {
    "collapsed": false
   }
  },
  {
   "cell_type": "code",
   "execution_count": 67,
   "outputs": [
    {
     "name": "stdout",
     "output_type": "stream",
     "text": [
      "-------------------------------CondensedNearestNeighbour test size=0.2--------------------------------------\n",
      "----------   Standard Metrics   -------------------\n",
      " Accuracy Score: 0.993140006236358\n",
      " Precision Score: [0.99438027 0.        ]\n",
      " Recall Score: [0.99874569 0.        ]\n",
      "----------   Imbalanced Metrics   -------------------\n",
      " Classification report imbalanced:                    pre       rec       spe        f1       geo       iba       sup\n",
      "\n",
      "          0       0.99      1.00      0.00      1.00      0.00      0.00      3189\n",
      "          1       0.00      0.00      1.00      0.00      0.00      0.00        18\n",
      "\n",
      "avg / total       0.99      0.99      0.01      0.99      0.00      0.00      3207\n",
      "\n",
      " Sensitivity specificity support:\n",
      "(array([0.99874569, 0.        ]), array([0.        , 0.99874569]), array([3189,   18]))\n",
      " Sensitivity score: 0.0\n",
      " Specificity score: 0.9987456883035434\n",
      " Geometric mean score: 0.0\n"
     ]
    }
   ],
   "source": [
    "try:\n",
    "    from imblearn.under_sampling import CondensedNearestNeighbour\n",
    "    rebalance_train_test_logreg(X, y, CondensedNearestNeighbour(), 'CondensedNearestNeighbour',test_size)\n",
    "except:\n",
    "    print(\"Erro!\")\n"
   ],
   "metadata": {
    "collapsed": false,
    "pycharm": {
     "name": "#%%\n"
    }
   }
  },
  {
   "cell_type": "markdown",
   "source": [
    "# EditedNearestNeighbours"
   ],
   "metadata": {
    "collapsed": false
   }
  },
  {
   "cell_type": "code",
   "execution_count": 68,
   "outputs": [
    {
     "name": "stdout",
     "output_type": "stream",
     "text": [
      "-------------------------------EditedNearestNeighbours test size=0.2--------------------------------------\n",
      "----------   Standard Metrics   -------------------\n",
      " Accuracy Score: 0.9934518241347053\n",
      " Precision Score: [0.99469082 0.2       ]\n",
      " Recall Score: [0.99874569 0.05555556]\n",
      "----------   Imbalanced Metrics   -------------------\n",
      " Classification report imbalanced:                    pre       rec       spe        f1       geo       iba       sup\n",
      "\n",
      "          0       0.99      1.00      0.06      1.00      0.24      0.06      3189\n",
      "          1       0.20      0.06      1.00      0.09      0.24      0.05        18\n",
      "\n",
      "avg / total       0.99      0.99      0.06      0.99      0.24      0.06      3207\n",
      "\n",
      " Sensitivity specificity support:\n",
      "(array([0.99874569, 0.05555556]), array([0.05555556, 0.99874569]), array([3189,   18]))\n",
      " Sensitivity score: 0.05555555555555555\n",
      " Specificity score: 0.9987456883035434\n",
      " Geometric mean score: 0.23555439196164238\n"
     ]
    }
   ],
   "source": [
    "try:\n",
    "    from imblearn.under_sampling import EditedNearestNeighbours\n",
    "    rebalance_train_test_logreg(X, y, EditedNearestNeighbours(), 'EditedNearestNeighbours',test_size)\n",
    "except:\n",
    "    print(\"Erro!\")"
   ],
   "metadata": {
    "collapsed": false,
    "pycharm": {
     "name": "#%%\n"
    }
   }
  },
  {
   "cell_type": "markdown",
   "source": [
    "# EditedNearestNeighbours"
   ],
   "metadata": {
    "collapsed": false
   }
  },
  {
   "cell_type": "code",
   "execution_count": 69,
   "outputs": [
    {
     "name": "stdout",
     "output_type": "stream",
     "text": [
      "-------------------------------RepeatedEditedNearestNeighbours test size=0.2--------------------------------------\n",
      "----------   Standard Metrics   -------------------\n",
      " Accuracy Score: 0.9934518241347053\n",
      " Precision Score: [0.99469082 0.2       ]\n",
      " Recall Score: [0.99874569 0.05555556]\n",
      "----------   Imbalanced Metrics   -------------------\n",
      " Classification report imbalanced:                    pre       rec       spe        f1       geo       iba       sup\n",
      "\n",
      "          0       0.99      1.00      0.06      1.00      0.24      0.06      3189\n",
      "          1       0.20      0.06      1.00      0.09      0.24      0.05        18\n",
      "\n",
      "avg / total       0.99      0.99      0.06      0.99      0.24      0.06      3207\n",
      "\n",
      " Sensitivity specificity support:\n",
      "(array([0.99874569, 0.05555556]), array([0.05555556, 0.99874569]), array([3189,   18]))\n",
      " Sensitivity score: 0.05555555555555555\n",
      " Specificity score: 0.9987456883035434\n",
      " Geometric mean score: 0.23555439196164238\n"
     ]
    }
   ],
   "source": [
    "try:\n",
    "    from imblearn.under_sampling import RepeatedEditedNearestNeighbours\n",
    "    rebalance_train_test_logreg(X, y, RepeatedEditedNearestNeighbours(), 'RepeatedEditedNearestNeighbours',test_size)\n",
    "except:\n",
    "    print(\"Erro!\")\n"
   ],
   "metadata": {
    "collapsed": false,
    "pycharm": {
     "name": "#%%\n"
    }
   }
  },
  {
   "cell_type": "markdown",
   "source": [
    "# AllKNN"
   ],
   "metadata": {
    "collapsed": false
   }
  },
  {
   "cell_type": "code",
   "execution_count": 70,
   "outputs": [
    {
     "name": "stdout",
     "output_type": "stream",
     "text": [
      "-------------------------------AllKNN test size=0.2--------------------------------------\n",
      "----------   Standard Metrics   -------------------\n",
      " Accuracy Score: 0.9934518241347053\n",
      " Precision Score: [0.99469082 0.2       ]\n",
      " Recall Score: [0.99874569 0.05555556]\n",
      "----------   Imbalanced Metrics   -------------------\n",
      " Classification report imbalanced:                    pre       rec       spe        f1       geo       iba       sup\n",
      "\n",
      "          0       0.99      1.00      0.06      1.00      0.24      0.06      3189\n",
      "          1       0.20      0.06      1.00      0.09      0.24      0.05        18\n",
      "\n",
      "avg / total       0.99      0.99      0.06      0.99      0.24      0.06      3207\n",
      "\n",
      " Sensitivity specificity support:\n",
      "(array([0.99874569, 0.05555556]), array([0.05555556, 0.99874569]), array([3189,   18]))\n",
      " Sensitivity score: 0.05555555555555555\n",
      " Specificity score: 0.9987456883035434\n",
      " Geometric mean score: 0.23555439196164238\n"
     ]
    }
   ],
   "source": [
    "try:\n",
    "    from imblearn.under_sampling import AllKNN\n",
    "    rebalance_train_test_logreg(X, y, AllKNN(), 'AllKNN',test_size)\n",
    "except:\n",
    "    print(\"Erro!\")"
   ],
   "metadata": {
    "collapsed": false,
    "pycharm": {
     "name": "#%%\n"
    }
   }
  },
  {
   "cell_type": "markdown",
   "source": [
    "# InstanceHardnessThreshold"
   ],
   "metadata": {
    "collapsed": false
   }
  },
  {
   "cell_type": "code",
   "execution_count": 71,
   "outputs": [
    {
     "name": "stdout",
     "output_type": "stream",
     "text": [
      "-------------------------------InstanceHardnessThreshold test size=0.2--------------------------------------\n",
      "----------   Standard Metrics   -------------------\n",
      " Accuracy Score: 0.9912690988462738\n",
      " Precision Score: [0.99498904 0.14285714]\n",
      " Recall Score: [0.99623706 0.11111111]\n",
      "----------   Imbalanced Metrics   -------------------\n",
      " Classification report imbalanced:                    pre       rec       spe        f1       geo       iba       sup\n",
      "\n",
      "          0       0.99      1.00      0.11      1.00      0.33      0.12      3189\n",
      "          1       0.14      0.11      1.00      0.12      0.33      0.10        18\n",
      "\n",
      "avg / total       0.99      0.99      0.12      0.99      0.33      0.12      3207\n",
      "\n",
      " Sensitivity specificity support:\n",
      "(array([0.99623706, 0.11111111]), array([0.11111111, 0.99623706]), array([3189,   18]))\n",
      " Sensitivity score: 0.1111111111111111\n",
      " Specificity score: 0.9962370649106302\n",
      " Geometric mean score: 0.3327055863857597\n"
     ]
    }
   ],
   "source": [
    "try:\n",
    "    from imblearn.under_sampling import InstanceHardnessThreshold\n",
    "    rebalance_train_test_logreg(X, y, InstanceHardnessThreshold(), 'InstanceHardnessThreshold',test_size)\n",
    "except:\n",
    "    print(\"Erro!\")\n"
   ],
   "metadata": {
    "collapsed": false,
    "pycharm": {
     "name": "#%%\n"
    }
   }
  },
  {
   "cell_type": "markdown",
   "source": [
    "# NearMiss"
   ],
   "metadata": {
    "collapsed": false
   }
  },
  {
   "cell_type": "code",
   "execution_count": 72,
   "outputs": [
    {
     "name": "stdout",
     "output_type": "stream",
     "text": [
      "-------------------------------NearMiss test size=0.2--------------------------------------\n",
      "----------   Standard Metrics   -------------------\n",
      " Accuracy Score: 0.0894917368256938\n",
      " Precision Score: [0.97192982 0.00342231]\n",
      " Recall Score: [0.08686108 0.55555556]\n",
      "----------   Imbalanced Metrics   -------------------\n",
      " Classification report imbalanced:                    pre       rec       spe        f1       geo       iba       sup\n",
      "\n",
      "          0       0.97      0.09      0.56      0.16      0.22      0.05      3189\n",
      "          1       0.00      0.56      0.09      0.01      0.22      0.05        18\n",
      "\n",
      "avg / total       0.97      0.09      0.55      0.16      0.22      0.05      3207\n",
      "\n",
      " Sensitivity specificity support:\n",
      "(array([0.08686108, 0.55555556]), array([0.55555556, 0.08686108]), array([3189,   18]))\n",
      " Sensitivity score: 0.5555555555555556\n",
      " Specificity score: 0.08686108497961743\n",
      " Geometric mean score: 0.2196728438428603\n"
     ]
    }
   ],
   "source": [
    "try:\n",
    "    from imblearn.under_sampling import NearMiss\n",
    "    rebalance_train_test_logreg(X, y, NearMiss(), 'NearMiss',test_size)\n",
    "except:\n",
    "    print(\"Erro!\")"
   ],
   "metadata": {
    "collapsed": false,
    "pycharm": {
     "name": "#%%\n"
    }
   }
  },
  {
   "cell_type": "markdown",
   "source": [
    "# NeighbourhoodCleaningRule"
   ],
   "metadata": {
    "collapsed": false
   }
  },
  {
   "cell_type": "code",
   "execution_count": 73,
   "outputs": [
    {
     "name": "stdout",
     "output_type": "stream",
     "text": [
      "-------------------------------NeighbourhoodCleaningRule test size=0.2--------------------------------------\n",
      "----------   Standard Metrics   -------------------\n",
      " Accuracy Score: 0.9934518241347053\n",
      " Precision Score: [0.99469082 0.2       ]\n",
      " Recall Score: [0.99874569 0.05555556]\n",
      "----------   Imbalanced Metrics   -------------------\n",
      " Classification report imbalanced:                    pre       rec       spe        f1       geo       iba       sup\n",
      "\n",
      "          0       0.99      1.00      0.06      1.00      0.24      0.06      3189\n",
      "          1       0.20      0.06      1.00      0.09      0.24      0.05        18\n",
      "\n",
      "avg / total       0.99      0.99      0.06      0.99      0.24      0.06      3207\n",
      "\n",
      " Sensitivity specificity support:\n",
      "(array([0.99874569, 0.05555556]), array([0.05555556, 0.99874569]), array([3189,   18]))\n",
      " Sensitivity score: 0.05555555555555555\n",
      " Specificity score: 0.9987456883035434\n",
      " Geometric mean score: 0.23555439196164238\n"
     ]
    }
   ],
   "source": [
    "try:\n",
    "    from imblearn.under_sampling import NeighbourhoodCleaningRule\n",
    "    rebalance_train_test_logreg(X, y, NeighbourhoodCleaningRule(), 'NeighbourhoodCleaningRule',test_size)\n",
    "except:\n",
    "    print(\"Erro!\")"
   ],
   "metadata": {
    "collapsed": false,
    "pycharm": {
     "name": "#%%\n"
    }
   }
  },
  {
   "cell_type": "markdown",
   "source": [
    "# OneSidedSelection"
   ],
   "metadata": {
    "collapsed": false
   }
  },
  {
   "cell_type": "code",
   "execution_count": 74,
   "outputs": [
    {
     "name": "stdout",
     "output_type": "stream",
     "text": [
      "-------------------------------OneSidedSelection test size=0.2--------------------------------------\n",
      "----------   Standard Metrics   -------------------\n",
      " Accuracy Score: 0.9943872778297475\n",
      " Precision Score: [0.99438728 0.        ]\n",
      " Recall Score: [1. 0.]\n",
      "----------   Imbalanced Metrics   -------------------\n",
      " Classification report imbalanced:                    pre       rec       spe        f1       geo       iba       sup\n",
      "\n",
      "          0       0.99      1.00      0.00      1.00      0.00      0.00      3189\n",
      "          1       0.00      0.00      1.00      0.00      0.00      0.00        18\n",
      "\n",
      "avg / total       0.99      0.99      0.01      0.99      0.00      0.00      3207\n",
      "\n",
      " Sensitivity specificity support:\n",
      "(array([1., 0.]), array([0., 1.]), array([3189,   18]))\n",
      " Sensitivity score: 0.0\n",
      " Specificity score: 1.0\n",
      " Geometric mean score: 0.0\n"
     ]
    },
    {
     "name": "stderr",
     "output_type": "stream",
     "text": [
      "/Users/pedro/Library/Python/3.7/lib/python/site-packages/sklearn/metrics/_classification.py:1221: UndefinedMetricWarning: Precision is ill-defined and being set to 0.0 in labels with no predicted samples. Use `zero_division` parameter to control this behavior.\n",
      "  _warn_prf(average, modifier, msg_start, len(result))\n",
      "/Users/pedro/Library/Python/3.7/lib/python/site-packages/sklearn/metrics/_classification.py:1221: UndefinedMetricWarning: Precision and F-score are ill-defined and being set to 0.0 in labels with no predicted samples. Use `zero_division` parameter to control this behavior.\n",
      "  _warn_prf(average, modifier, msg_start, len(result))\n"
     ]
    }
   ],
   "source": [
    "try:\n",
    "    from imblearn.under_sampling import OneSidedSelection\n",
    "    rebalance_train_test_logreg(X, y, OneSidedSelection(), 'OneSidedSelection',test_size)\n",
    "except:\n",
    "    print(\"Erro!\")"
   ],
   "metadata": {
    "collapsed": false,
    "pycharm": {
     "name": "#%%\n"
    }
   }
  },
  {
   "cell_type": "markdown",
   "source": [
    "# RandomUnderSampler"
   ],
   "metadata": {
    "collapsed": false
   }
  },
  {
   "cell_type": "code",
   "execution_count": 75,
   "outputs": [
    {
     "name": "stdout",
     "output_type": "stream",
     "text": [
      "-------------------------------RandomUnderSampler test size=0.2--------------------------------------\n",
      "----------   Standard Metrics   -------------------\n",
      " Accuracy Score: 0.7477393202369816\n",
      " Precision Score: [0.99790795 0.01591187]\n",
      " Recall Score: [0.74788335 0.72222222]\n",
      "----------   Imbalanced Metrics   -------------------\n",
      " Classification report imbalanced:                    pre       rec       spe        f1       geo       iba       sup\n",
      "\n",
      "          0       1.00      0.75      0.72      0.85      0.73      0.54      3189\n",
      "          1       0.02      0.72      0.75      0.03      0.73      0.54        18\n",
      "\n",
      "avg / total       0.99      0.75      0.72      0.85      0.73      0.54      3207\n",
      "\n",
      " Sensitivity specificity support:\n",
      "(array([0.74788335, 0.72222222]), array([0.72222222, 0.74788335]), array([3189,   18]))\n",
      " Sensitivity score: 0.7222222222222222\n",
      " Specificity score: 0.7478833490122295\n",
      " Geometric mean score: 0.734940796450034\n"
     ]
    }
   ],
   "source": [
    "try:\n",
    "    from imblearn.under_sampling import RandomUnderSampler\n",
    "    rebalance_train_test_logreg(X, y, RandomUnderSampler(), 'RandomUnderSampler',test_size)\n",
    "except:\n",
    "    print(\"Erro!\")"
   ],
   "metadata": {
    "collapsed": false,
    "pycharm": {
     "name": "#%%\n"
    }
   }
  },
  {
   "cell_type": "markdown",
   "source": [
    "# TomekLinks"
   ],
   "metadata": {
    "collapsed": false
   }
  },
  {
   "cell_type": "code",
   "execution_count": 76,
   "outputs": [
    {
     "name": "stdout",
     "output_type": "stream",
     "text": [
      "-------------------------------TomekLinks test size=0.2--------------------------------------\n",
      "----------   Standard Metrics   -------------------\n",
      " Accuracy Score: 0.9943872778297475\n",
      " Precision Score: [0.99438728 0.        ]\n",
      " Recall Score: [1. 0.]\n",
      "----------   Imbalanced Metrics   -------------------\n",
      " Classification report imbalanced:                    pre       rec       spe        f1       geo       iba       sup\n",
      "\n",
      "          0       0.99      1.00      0.00      1.00      0.00      0.00      3189\n",
      "          1       0.00      0.00      1.00      0.00      0.00      0.00        18\n",
      "\n",
      "avg / total       0.99      0.99      0.01      0.99      0.00      0.00      3207\n",
      "\n",
      " Sensitivity specificity support:\n",
      "(array([1., 0.]), array([0., 1.]), array([3189,   18]))\n",
      " Sensitivity score: 0.0\n",
      " Specificity score: 1.0\n",
      " Geometric mean score: 0.0\n"
     ]
    },
    {
     "name": "stderr",
     "output_type": "stream",
     "text": [
      "/Users/pedro/Library/Python/3.7/lib/python/site-packages/sklearn/metrics/_classification.py:1221: UndefinedMetricWarning: Precision is ill-defined and being set to 0.0 in labels with no predicted samples. Use `zero_division` parameter to control this behavior.\n",
      "  _warn_prf(average, modifier, msg_start, len(result))\n",
      "/Users/pedro/Library/Python/3.7/lib/python/site-packages/sklearn/metrics/_classification.py:1221: UndefinedMetricWarning: Precision and F-score are ill-defined and being set to 0.0 in labels with no predicted samples. Use `zero_division` parameter to control this behavior.\n",
      "  _warn_prf(average, modifier, msg_start, len(result))\n"
     ]
    }
   ],
   "source": [
    "try:\n",
    "    from imblearn.under_sampling import TomekLinks\n",
    "    rebalance_train_test_logreg(X, y, TomekLinks(), 'TomekLinks',test_size)\n",
    "except:\n",
    "    print(\"Erro!\")"
   ],
   "metadata": {
    "collapsed": false,
    "pycharm": {
     "name": "#%%\n"
    }
   }
  },
  {
   "cell_type": "markdown",
   "source": [
    "# ADASYN"
   ],
   "metadata": {
    "collapsed": false
   }
  },
  {
   "cell_type": "code",
   "execution_count": 77,
   "outputs": [
    {
     "name": "stdout",
     "output_type": "stream",
     "text": [
      "-------------------------------ADASYN test size=0.2--------------------------------------\n",
      "----------   Standard Metrics   -------------------\n",
      " Accuracy Score: 0.8528219519800436\n",
      " Precision Score: [0.99780139 0.0251046 ]\n",
      " Recall Score: [0.85387269 0.66666667]\n",
      "----------   Imbalanced Metrics   -------------------\n",
      " Classification report imbalanced:                    pre       rec       spe        f1       geo       iba       sup\n",
      "\n",
      "          0       1.00      0.85      0.67      0.92      0.75      0.58      3189\n",
      "          1       0.03      0.67      0.85      0.05      0.75      0.56        18\n",
      "\n",
      "avg / total       0.99      0.85      0.67      0.92      0.75      0.58      3207\n",
      "\n",
      " Sensitivity specificity support:\n",
      "(array([0.85387269, 0.66666667]), array([0.66666667, 0.85387269]), array([3189,   18]))\n",
      " Sensitivity score: 0.6666666666666666\n",
      " Specificity score: 0.8538726873628096\n",
      " Geometric mean score: 0.7544855586701928\n"
     ]
    },
    {
     "name": "stderr",
     "output_type": "stream",
     "text": [
      "/Users/pedro/Library/Python/3.7/lib/python/site-packages/sklearn/linear_model/_logistic.py:764: ConvergenceWarning: lbfgs failed to converge (status=1):\n",
      "STOP: TOTAL NO. of ITERATIONS REACHED LIMIT.\n",
      "\n",
      "Increase the number of iterations (max_iter) or scale the data as shown in:\n",
      "    https://scikit-learn.org/stable/modules/preprocessing.html\n",
      "Please also refer to the documentation for alternative solver options:\n",
      "    https://scikit-learn.org/stable/modules/linear_model.html#logistic-regression\n",
      "  extra_warning_msg=_LOGISTIC_SOLVER_CONVERGENCE_MSG)\n"
     ]
    }
   ],
   "source": [
    "try:\n",
    "    from imblearn.over_sampling import ADASYN\n",
    "    rebalance_train_test_logreg(X, y, ADASYN(), 'ADASYN',test_size)\n",
    "except:\n",
    "    print(\"Erro!\")"
   ],
   "metadata": {
    "collapsed": false,
    "pycharm": {
     "name": "#%%\n"
    }
   }
  },
  {
   "cell_type": "markdown",
   "source": [
    "# BorderlineSMOTE"
   ],
   "metadata": {
    "collapsed": false
   }
  },
  {
   "cell_type": "code",
   "execution_count": 78,
   "outputs": [
    {
     "name": "stdout",
     "output_type": "stream",
     "text": [
      "-------------------------------BorderlineSMOTE test size=0.2--------------------------------------\n",
      "----------   Standard Metrics   -------------------\n",
      " Accuracy Score: 0.9236046149048955\n",
      " Precision Score: [0.99662618 0.03292181]\n",
      " Recall Score: [0.92630919 0.44444444]\n",
      "----------   Imbalanced Metrics   -------------------\n",
      " Classification report imbalanced:                    pre       rec       spe        f1       geo       iba       sup\n",
      "\n",
      "          0       1.00      0.93      0.44      0.96      0.64      0.43      3189\n",
      "          1       0.03      0.44      0.93      0.06      0.64      0.39        18\n",
      "\n",
      "avg / total       0.99      0.92      0.45      0.96      0.64      0.43      3207\n",
      "\n",
      " Sensitivity specificity support:\n",
      "(array([0.92630919, 0.44444444]), array([0.44444444, 0.92630919]), array([3189,   18]))\n",
      " Sensitivity score: 0.4444444444444444\n",
      " Specificity score: 0.9263091878331765\n",
      " Geometric mean score: 0.6416330511829177\n"
     ]
    },
    {
     "name": "stderr",
     "output_type": "stream",
     "text": [
      "/Users/pedro/Library/Python/3.7/lib/python/site-packages/sklearn/linear_model/_logistic.py:764: ConvergenceWarning: lbfgs failed to converge (status=1):\n",
      "STOP: TOTAL NO. of ITERATIONS REACHED LIMIT.\n",
      "\n",
      "Increase the number of iterations (max_iter) or scale the data as shown in:\n",
      "    https://scikit-learn.org/stable/modules/preprocessing.html\n",
      "Please also refer to the documentation for alternative solver options:\n",
      "    https://scikit-learn.org/stable/modules/linear_model.html#logistic-regression\n",
      "  extra_warning_msg=_LOGISTIC_SOLVER_CONVERGENCE_MSG)\n"
     ]
    }
   ],
   "source": [
    "try:\n",
    "    from imblearn.over_sampling import BorderlineSMOTE\n",
    "    rebalance_train_test_logreg(X, y, BorderlineSMOTE(), 'BorderlineSMOTE',test_size)\n",
    "except:\n",
    "    print(\"Erro!\")"
   ],
   "metadata": {
    "collapsed": false,
    "pycharm": {
     "name": "#%%\n"
    }
   }
  },
  {
   "cell_type": "markdown",
   "source": [
    "# KMeansSMOTE"
   ],
   "metadata": {
    "collapsed": false
   }
  },
  {
   "cell_type": "code",
   "execution_count": 79,
   "outputs": [
    {
     "name": "stdout",
     "output_type": "stream",
     "text": [
      "Erro!\n"
     ]
    }
   ],
   "source": [
    "try:\n",
    "    from imblearn.over_sampling import KMeansSMOTE\n",
    "    rebalance_train_test_logreg(X, y, KMeansSMOTE(), 'KMeansSMOTE',test_size)\n",
    "except:\n",
    "    print(\"Erro!\")"
   ],
   "metadata": {
    "collapsed": false,
    "pycharm": {
     "name": "#%%\n"
    }
   }
  },
  {
   "cell_type": "markdown",
   "source": [
    "# RandomOverSampler"
   ],
   "metadata": {
    "collapsed": false
   }
  },
  {
   "cell_type": "code",
   "execution_count": 80,
   "outputs": [
    {
     "name": "stdout",
     "output_type": "stream",
     "text": [
      "-------------------------------RandomOverSampler test size=0.2--------------------------------------\n",
      "----------   Standard Metrics   -------------------\n",
      " Accuracy Score: 0.8531337698783911\n",
      " Precision Score: [0.99816716 0.02713987]\n",
      " Recall Score: [0.85387269 0.72222222]\n",
      "----------   Imbalanced Metrics   -------------------\n",
      " Classification report imbalanced:                    pre       rec       spe        f1       geo       iba       sup\n",
      "\n",
      "          0       1.00      0.85      0.72      0.92      0.79      0.62      3189\n",
      "          1       0.03      0.72      0.85      0.05      0.79      0.61        18\n",
      "\n",
      "avg / total       0.99      0.85      0.72      0.92      0.79      0.62      3207\n",
      "\n",
      " Sensitivity specificity support:\n",
      "(array([0.85387269, 0.72222222]), array([0.72222222, 0.85387269]), array([3189,   18]))\n",
      " Sensitivity score: 0.7222222222222222\n",
      " Specificity score: 0.8538726873628096\n",
      " Geometric mean score: 0.7852934672859753\n"
     ]
    },
    {
     "name": "stderr",
     "output_type": "stream",
     "text": [
      "/Users/pedro/Library/Python/3.7/lib/python/site-packages/sklearn/linear_model/_logistic.py:764: ConvergenceWarning: lbfgs failed to converge (status=1):\n",
      "STOP: TOTAL NO. of ITERATIONS REACHED LIMIT.\n",
      "\n",
      "Increase the number of iterations (max_iter) or scale the data as shown in:\n",
      "    https://scikit-learn.org/stable/modules/preprocessing.html\n",
      "Please also refer to the documentation for alternative solver options:\n",
      "    https://scikit-learn.org/stable/modules/linear_model.html#logistic-regression\n",
      "  extra_warning_msg=_LOGISTIC_SOLVER_CONVERGENCE_MSG)\n"
     ]
    }
   ],
   "source": [
    "try:\n",
    "    from imblearn.over_sampling import RandomOverSampler\n",
    "    rebalance_train_test_logreg(X, y, RandomOverSampler(), 'RandomOverSampler',test_size)\n",
    "except:\n",
    "    print(\"Erro!\")"
   ],
   "metadata": {
    "collapsed": false,
    "pycharm": {
     "name": "#%%\n"
    }
   }
  },
  {
   "cell_type": "markdown",
   "source": [
    "# SMOTE"
   ],
   "metadata": {
    "collapsed": false
   }
  },
  {
   "cell_type": "code",
   "execution_count": 81,
   "outputs": [
    {
     "name": "stdout",
     "output_type": "stream",
     "text": [
      "-------------------------------SMOTE test size=0.2--------------------------------------\n",
      "----------   Standard Metrics   -------------------\n",
      " Accuracy Score: 0.8618646710321173\n",
      " Precision Score: [0.99782451 0.02672606]\n",
      " Recall Score: [0.86296645 0.66666667]\n",
      "----------   Imbalanced Metrics   -------------------\n",
      " Classification report imbalanced:                    pre       rec       spe        f1       geo       iba       sup\n",
      "\n",
      "          0       1.00      0.86      0.67      0.93      0.76      0.59      3189\n",
      "          1       0.03      0.67      0.86      0.05      0.76      0.56        18\n",
      "\n",
      "avg / total       0.99      0.86      0.67      0.92      0.76      0.59      3207\n",
      "\n",
      " Sensitivity specificity support:\n",
      "(array([0.86296645, 0.66666667]), array([0.66666667, 0.86296645]), array([3189,   18]))\n",
      " Sensitivity score: 0.6666666666666666\n",
      " Specificity score: 0.8629664471621198\n",
      " Geometric mean score: 0.7584925607906424\n"
     ]
    },
    {
     "name": "stderr",
     "output_type": "stream",
     "text": [
      "/Users/pedro/Library/Python/3.7/lib/python/site-packages/sklearn/linear_model/_logistic.py:764: ConvergenceWarning: lbfgs failed to converge (status=1):\n",
      "STOP: TOTAL NO. of ITERATIONS REACHED LIMIT.\n",
      "\n",
      "Increase the number of iterations (max_iter) or scale the data as shown in:\n",
      "    https://scikit-learn.org/stable/modules/preprocessing.html\n",
      "Please also refer to the documentation for alternative solver options:\n",
      "    https://scikit-learn.org/stable/modules/linear_model.html#logistic-regression\n",
      "  extra_warning_msg=_LOGISTIC_SOLVER_CONVERGENCE_MSG)\n"
     ]
    }
   ],
   "source": [
    "try:\n",
    "    from imblearn.over_sampling import SMOTE\n",
    "    rebalance_train_test_logreg(X, y, SMOTE(), 'SMOTE',test_size)\n",
    "except:\n",
    "    print(\"Erro!\")"
   ],
   "metadata": {
    "collapsed": false,
    "pycharm": {
     "name": "#%%\n"
    }
   }
  },
  {
   "cell_type": "markdown",
   "source": [
    "# SMOTENC"
   ],
   "metadata": {
    "collapsed": false
   }
  },
  {
   "cell_type": "code",
   "execution_count": 82,
   "outputs": [
    {
     "name": "stdout",
     "output_type": "stream",
     "text": [
      "Erro!\n"
     ]
    }
   ],
   "source": [
    "try:\n",
    "    from imblearn.over_sampling import SMOTENC\n",
    "    rebalance_train_test_logreg(X, y, SMOTENC(), 'SMOTENC',test_size)\n",
    "except:\n",
    "    print(\"Erro!\")"
   ],
   "metadata": {
    "collapsed": false,
    "pycharm": {
     "name": "#%%\n"
    }
   }
  },
  {
   "cell_type": "markdown",
   "source": [
    "# SVMSMOTE"
   ],
   "metadata": {
    "collapsed": false
   }
  },
  {
   "cell_type": "code",
   "execution_count": 83,
   "outputs": [
    {
     "name": "stdout",
     "output_type": "stream",
     "text": [
      "-------------------------------SVMSMOTE test size=0.2--------------------------------------\n",
      "----------   Standard Metrics   -------------------\n",
      " Accuracy Score: 0.943560960399127\n",
      " Precision Score: [0.99571523 0.02890173]\n",
      " Recall Score: [0.94731891 0.27777778]\n",
      "----------   Imbalanced Metrics   -------------------\n",
      " Classification report imbalanced:                    pre       rec       spe        f1       geo       iba       sup\n",
      "\n",
      "          0       1.00      0.95      0.28      0.97      0.51      0.28      3189\n",
      "          1       0.03      0.28      0.95      0.05      0.51      0.25        18\n",
      "\n",
      "avg / total       0.99      0.94      0.28      0.97      0.51      0.28      3207\n",
      "\n",
      " Sensitivity specificity support:\n",
      "(array([0.94731891, 0.27777778]), array([0.27777778, 0.94731891]), array([3189,   18]))\n",
      " Sensitivity score: 0.2777777777777778\n",
      " Specificity score: 0.9473189087488241\n",
      " Geometric mean score: 0.5129757706940141\n"
     ]
    },
    {
     "name": "stderr",
     "output_type": "stream",
     "text": [
      "/Users/pedro/Library/Python/3.7/lib/python/site-packages/sklearn/linear_model/_logistic.py:764: ConvergenceWarning: lbfgs failed to converge (status=1):\n",
      "STOP: TOTAL NO. of ITERATIONS REACHED LIMIT.\n",
      "\n",
      "Increase the number of iterations (max_iter) or scale the data as shown in:\n",
      "    https://scikit-learn.org/stable/modules/preprocessing.html\n",
      "Please also refer to the documentation for alternative solver options:\n",
      "    https://scikit-learn.org/stable/modules/linear_model.html#logistic-regression\n",
      "  extra_warning_msg=_LOGISTIC_SOLVER_CONVERGENCE_MSG)\n"
     ]
    }
   ],
   "source": [
    "try:\n",
    "    from imblearn.over_sampling import SVMSMOTE\n",
    "    rebalance_train_test_logreg(X, y, SVMSMOTE(), 'SVMSMOTE',test_size)\n",
    "except:\n",
    "    print(\"Erro!\")"
   ],
   "metadata": {
    "collapsed": false,
    "pycharm": {
     "name": "#%%\n"
    }
   }
  },
  {
   "cell_type": "markdown",
   "source": [
    "# SMOTEENN"
   ],
   "metadata": {
    "collapsed": false
   }
  },
  {
   "cell_type": "code",
   "execution_count": 84,
   "outputs": [
    {
     "name": "stdout",
     "output_type": "stream",
     "text": [
      "-------------------------------SMOTEENN test size=0.2--------------------------------------\n",
      "----------   Standard Metrics   -------------------\n",
      " Accuracy Score: 0.8606173994387278\n",
      " Precision Score: [0.99782135 0.02649007]\n",
      " Recall Score: [0.86171214 0.66666667]\n",
      "----------   Imbalanced Metrics   -------------------\n",
      " Classification report imbalanced:                    pre       rec       spe        f1       geo       iba       sup\n",
      "\n",
      "          0       1.00      0.86      0.67      0.92      0.76      0.59      3189\n",
      "          1       0.03      0.67      0.86      0.05      0.76      0.56        18\n",
      "\n",
      "avg / total       0.99      0.86      0.67      0.92      0.76      0.59      3207\n",
      "\n",
      " Sensitivity specificity support:\n",
      "(array([0.86171214, 0.66666667]), array([0.66666667, 0.86171214]), array([3189,   18]))\n",
      " Sensitivity score: 0.6666666666666666\n",
      " Specificity score: 0.8617121354656632\n",
      " Geometric mean score: 0.7579411302846077\n"
     ]
    },
    {
     "name": "stderr",
     "output_type": "stream",
     "text": [
      "/Users/pedro/Library/Python/3.7/lib/python/site-packages/sklearn/linear_model/_logistic.py:764: ConvergenceWarning: lbfgs failed to converge (status=1):\n",
      "STOP: TOTAL NO. of ITERATIONS REACHED LIMIT.\n",
      "\n",
      "Increase the number of iterations (max_iter) or scale the data as shown in:\n",
      "    https://scikit-learn.org/stable/modules/preprocessing.html\n",
      "Please also refer to the documentation for alternative solver options:\n",
      "    https://scikit-learn.org/stable/modules/linear_model.html#logistic-regression\n",
      "  extra_warning_msg=_LOGISTIC_SOLVER_CONVERGENCE_MSG)\n"
     ]
    }
   ],
   "source": [
    "try:\n",
    "    from imblearn.combine import SMOTEENN\n",
    "    rebalance_train_test_logreg(X, y, SMOTEENN(), 'SMOTEENN',test_size)\n",
    "except:\n",
    "    print(\"Erro!\")"
   ],
   "metadata": {
    "collapsed": false,
    "pycharm": {
     "name": "#%%\n"
    }
   }
  },
  {
   "cell_type": "markdown",
   "source": [
    "# SMOTETomek"
   ],
   "metadata": {
    "collapsed": false
   }
  },
  {
   "cell_type": "code",
   "execution_count": 85,
   "outputs": [
    {
     "name": "stdout",
     "output_type": "stream",
     "text": [
      "-------------------------------SMOTETomek test size=0.2--------------------------------------\n",
      "----------   Standard Metrics   -------------------\n",
      " Accuracy Score: 0.862488306828812\n",
      " Precision Score: [0.99782609 0.02684564]\n",
      " Recall Score: [0.8635936  0.66666667]\n",
      "----------   Imbalanced Metrics   -------------------\n",
      " Classification report imbalanced:                    pre       rec       spe        f1       geo       iba       sup\n",
      "\n",
      "          0       1.00      0.86      0.67      0.93      0.76      0.59      3189\n",
      "          1       0.03      0.67      0.86      0.05      0.76      0.56        18\n",
      "\n",
      "avg / total       0.99      0.86      0.67      0.92      0.76      0.59      3207\n",
      "\n",
      " Sensitivity specificity support:\n",
      "(array([0.8635936 , 0.66666667]), array([0.66666667, 0.8635936 ]), array([3189,   18]))\n",
      " Sensitivity score: 0.6666666666666666\n",
      " Specificity score: 0.863593603010348\n",
      " Geometric mean score: 0.7587681257627823\n"
     ]
    },
    {
     "name": "stderr",
     "output_type": "stream",
     "text": [
      "/Users/pedro/Library/Python/3.7/lib/python/site-packages/sklearn/linear_model/_logistic.py:764: ConvergenceWarning: lbfgs failed to converge (status=1):\n",
      "STOP: TOTAL NO. of ITERATIONS REACHED LIMIT.\n",
      "\n",
      "Increase the number of iterations (max_iter) or scale the data as shown in:\n",
      "    https://scikit-learn.org/stable/modules/preprocessing.html\n",
      "Please also refer to the documentation for alternative solver options:\n",
      "    https://scikit-learn.org/stable/modules/linear_model.html#logistic-regression\n",
      "  extra_warning_msg=_LOGISTIC_SOLVER_CONVERGENCE_MSG)\n"
     ]
    }
   ],
   "source": [
    "try:\n",
    "    from imblearn.combine import SMOTETomek\n",
    "    rebalance_train_test_logreg(X, y, SMOTETomek(), 'SMOTETomek',test_size)\n",
    "except:\n",
    "    print(\"Erro!\")\n"
   ],
   "metadata": {
    "collapsed": false,
    "pycharm": {
     "name": "#%%\n"
    }
   }
  },
  {
   "cell_type": "markdown",
   "source": [
    "# BalancedBaggingClassifier"
   ],
   "metadata": {
    "collapsed": false
   }
  },
  {
   "cell_type": "code",
   "execution_count": 86,
   "outputs": [
    {
     "name": "stdout",
     "output_type": "stream",
     "text": [
      "Erro!\n"
     ]
    }
   ],
   "source": [
    "try:\n",
    "    from imblearn.ensemble import BalancedBaggingClassifier\n",
    "    rebalance_train_test_logreg(X, y, BalancedBaggingClassifier(), 'BalancedBaggingClassifier',test_size)\n",
    "except:\n",
    "    print(\"Erro!\")"
   ],
   "metadata": {
    "collapsed": false,
    "pycharm": {
     "name": "#%%\n"
    }
   }
  },
  {
   "cell_type": "markdown",
   "source": [
    "# BalancedRandomForestClassifier"
   ],
   "metadata": {
    "collapsed": false
   }
  },
  {
   "cell_type": "code",
   "execution_count": 87,
   "outputs": [
    {
     "name": "stdout",
     "output_type": "stream",
     "text": [
      "Erro!\n"
     ]
    }
   ],
   "source": [
    "try:\n",
    "    from imblearn.ensemble import BalancedRandomForestClassifier\n",
    "    rebalance_train_test_logreg(X, y, BalancedRandomForestClassifier(), 'BalancedRandomForestClassifier',test_size)\n",
    "except:\n",
    "    print(\"Erro!\")"
   ],
   "metadata": {
    "collapsed": false,
    "pycharm": {
     "name": "#%%\n"
    }
   }
  },
  {
   "cell_type": "markdown",
   "source": [
    "# EasyEnsemble"
   ],
   "metadata": {
    "collapsed": false
   }
  },
  {
   "cell_type": "code",
   "execution_count": 88,
   "outputs": [
    {
     "name": "stdout",
     "output_type": "stream",
     "text": [
      "Erro!\n"
     ]
    }
   ],
   "source": [
    "try:\n",
    "    from imblearn.ensemble import EasyEnsembleClassifier\n",
    "    rebalance_train_test_logreg(X, y, EasyEnsembleClassifier(), 'EasyEnsembleClassifier',test_size)\n",
    "except:\n",
    "    print(\"Erro!\")"
   ],
   "metadata": {
    "collapsed": false,
    "pycharm": {
     "name": "#%%\n"
    }
   }
  },
  {
   "cell_type": "markdown",
   "source": [
    "# RUSBoostClassifier"
   ],
   "metadata": {
    "collapsed": false
   }
  },
  {
   "cell_type": "code",
   "execution_count": 89,
   "outputs": [
    {
     "name": "stdout",
     "output_type": "stream",
     "text": [
      "Erro!\n"
     ]
    }
   ],
   "source": [
    "try:\n",
    "    from imblearn.ensemble import RUSBoostClassifier\n",
    "    rebalance_train_test_logreg(X, y, RUSBoostClassifier(), 'RUSBoostClassifier',test_size)\n",
    "except:\n",
    "    print(\"Erro!\")\n"
   ],
   "metadata": {
    "collapsed": false,
    "pycharm": {
     "name": "#%%\n"
    }
   }
  },
  {
   "cell_type": "markdown",
   "source": [
    "# RUSBoostClassifier"
   ],
   "metadata": {
    "collapsed": false
   }
  },
  {
   "cell_type": "code",
   "execution_count": 90,
   "outputs": [
    {
     "name": "stdout",
     "output_type": "stream",
     "text": [
      "Erro!\n"
     ]
    }
   ],
   "source": [
    "try:\n",
    "    from imblearn.ensemble import RUSBoostClassifier\n",
    "    rebalance_train_test_logreg(X, y, RUSBoostClassifier(), 'RUSBoostClassifier',test_size)\n",
    "except:\n",
    "    print(\"Erro!\")\n"
   ],
   "metadata": {
    "collapsed": false,
    "pycharm": {
     "name": "#%%\n"
    }
   }
  }
 ],
 "metadata": {
  "kernelspec": {
   "display_name": "Python 3",
   "language": "python",
   "name": "python3"
  },
  "language_info": {
   "codemirror_mode": {
    "name": "ipython",
    "version": 2
   },
   "file_extension": ".py",
   "mimetype": "text/x-python",
   "name": "python",
   "nbconvert_exporter": "python",
   "pygments_lexer": "ipython2",
   "version": "2.7.6"
  },
  "pycharm": {
   "stem_cell": {
    "cell_type": "raw",
    "source": [
     "\n"
    ],
    "metadata": {
     "collapsed": false
    }
   }
  }
 },
 "nbformat": 4,
 "nbformat_minor": 0
}