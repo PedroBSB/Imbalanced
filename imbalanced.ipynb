{
 "cells": [
  {
   "cell_type": "markdown",
   "source": [
    "Lê os dados:"
   ],
   "metadata": {
    "collapsed": false
   }
  },
  {
   "cell_type": "code",
   "execution_count": 37,
   "outputs": [],
   "source": [
    "import pandas as pd\n",
    "df = pd.read_csv(\"Base_Dissertacaov10.csv\",sep=';',decimal=\",\",encoding = \"latin\")\n",
    "# print(df.head())"
   ],
   "metadata": {
    "collapsed": false,
    "pycharm": {
     "name": "#%%\n"
    }
   }
  },
  {
   "cell_type": "code",
   "execution_count": 38,
   "outputs": [],
   "source": [
    "from sklearn import preprocessing\n",
    "from sklearn.model_selection import train_test_split\n",
    "#Cria os dados\n",
    "y = df[\"AUTO\"].to_numpy()\n",
    "X = df.iloc[:,3:-1]\n",
    "X_train, X_test, y_train, y_test = train_test_split(X, y, test_size = 0.2, random_state = 42)\n",
    "\n",
    "#Padroniza os dados\n",
    "scaler = preprocessing.StandardScaler().fit(X_train)\n",
    "X_train = scaler.transform(X_train)\n",
    "X_test = scaler.transform(X_test)"
   ],
   "metadata": {
    "collapsed": false,
    "pycharm": {
     "name": "#%%\n"
    }
   }
  },
  {
   "cell_type": "markdown",
   "source": [
    "# Random Over Sampler"
   ],
   "metadata": {
    "collapsed": false
   }
  },
  {
   "cell_type": "code",
   "execution_count": 39,
   "outputs": [],
   "source": [
    "from imblearn.over_sampling import RandomOverSampler\n",
    "ros = RandomOverSampler(random_state=12345)\n",
    "X_resampled, y_resampled = ros.fit_resample(X_train, y_train)"
   ],
   "metadata": {
    "collapsed": false,
    "pycharm": {
     "name": "#%%\n"
    }
   }
  },
  {
   "cell_type": "code",
   "execution_count": 40,
   "outputs": [
    {
     "name": "stdout",
     "output_type": "stream",
     "text": [
      " Accuracy Score: 0.9946990957280948\n",
      " Precision Score: [0.99531981 0.        ]\n",
      " Recall Score: [0.99937343 0.        ]\n"
     ]
    }
   ],
   "source": [
    "from sklearn.linear_model import LogisticRegression\n",
    "from sklearn.metrics import accuracy_score, precision_score, recall_score\n",
    "logreg = LogisticRegression(solver = 'lbfgs', multi_class = 'auto')\n",
    "logreg.fit(X_train, y_train)\n",
    "y_pred = logreg.predict(X_test)\n",
    "print(f' Accuracy Score: {accuracy_score(y_test, y_pred)}')\n",
    "print(f' Precision Score: {precision_score(y_test, y_pred, average = None)}')\n",
    "print(f' Recall Score: {recall_score(y_test, y_pred, average = None)}')\n"
   ],
   "metadata": {
    "collapsed": false,
    "pycharm": {
     "name": "#%%\n"
    }
   }
  },
  {
   "cell_type": "markdown",
   "source": [
    "# Random Over Sampler\n",
    "Copiado de : https://audreymychan.com/unbalancedclasses.html"
   ],
   "metadata": {
    "collapsed": false
   }
  },
  {
   "cell_type": "code",
   "execution_count": 41,
   "outputs": [],
   "source": [
    "# Method to rebalance train data, model a logistic regression, and output charts for predictions on test data\n",
    "# Inputs: X data, y data, rebalance algorithm (i.e. SMOTE()), rebalancing_title as a str (i.e. 'SMOTE')\n",
    "from imblearn.metrics import classification_report_imbalanced, sensitivity_specificity_support,sensitivity_score,specificity_score,geometric_mean_score, make_index_balanced_accuracy\n",
    "def rebalance_train_test_logreg(X, y, rebalance_alg, rebalancing_title, test_size=0.2):\n",
    "\n",
    "    # Split the data\n",
    "    X_train, X_test, y_train, y_test = train_test_split(X, y, test_size = test_size, random_state = 42)\n",
    "\n",
    "    # Rebalance train data\n",
    "    rebalance = rebalance_alg\n",
    "    X_reb, y_reb = rebalance.fit_sample(X_train, y_train)\n",
    "\n",
    "    # Train a Logistic Regression model on resampled data\n",
    "    logreg = LogisticRegression(solver = 'lbfgs', multi_class = 'auto')\n",
    "    logreg.fit(X_reb, y_reb)\n",
    "\n",
    "    # Generate predictions\n",
    "    y_pred = logreg.predict(X_test)\n",
    "\n",
    "    # Print out metrics\n",
    "    print(f'-------------------------------{rebalancing_title} test size={test_size}--------------------------------------')\n",
    "    print(\"----------   Standard Metrics   -------------------\")\n",
    "    print(f' Accuracy Score: {accuracy_score(y_test, y_pred)}')\n",
    "    print(f' Precision Score: {precision_score(y_test, y_pred, average = None)}')\n",
    "    print(f' Recall Score: {recall_score(y_test, y_pred, average = None)}')\n",
    "    print(\"----------   Imbalanced Metrics   -------------------\")\n",
    "    print(f' Classification report imbalanced: {classification_report_imbalanced(y_test, y_pred)}')\n",
    "    print(f' Sensitivity specificity support:')\n",
    "    print(sensitivity_specificity_support(y_test, y_pred))\n",
    "    print(f' Sensitivity score: {sensitivity_score(y_test, y_pred)}')\n",
    "    print(f' Specificity score: {specificity_score(y_test, y_pred)}')\n",
    "    print(f' Geometric mean score: {geometric_mean_score(y_test, y_pred)}')\n",
    "\n",
    "    return None\n"
   ],
   "metadata": {
    "collapsed": false,
    "pycharm": {
     "name": "#%%\n"
    }
   }
  },
  {
   "cell_type": "markdown",
   "source": [
    "# ClusterCentroids"
   ],
   "metadata": {
    "collapsed": false
   }
  },
  {
   "cell_type": "code",
   "execution_count": 42,
   "outputs": [
    {
     "name": "stdout",
     "output_type": "stream",
     "text": [
      "-------------------------------ClusterCentroids test size=0.2--------------------------------------\n",
      "----------   Standard Metrics   -------------------\n",
      " Accuracy Score: 0.9950109136264421\n",
      " Precision Score: [0.99532127 0.        ]\n",
      " Recall Score: [0.99968672 0.        ]\n",
      "----------   Imbalanced Metrics   -------------------\n",
      " Classification report imbalanced:                    pre       rec       spe        f1       geo       iba       sup\n",
      "\n",
      "          0       1.00      1.00      0.00      1.00      0.00      0.00      3192\n",
      "          1       0.00      0.00      1.00      0.00      0.00      0.00        15\n",
      "\n",
      "avg / total       0.99      1.00      0.00      0.99      0.00      0.00      3207\n",
      "\n",
      " Sensitivity specificity support: (array([0.99968672, 0.        ]), array([0.        , 0.99968672]), array([3192,   15]))\n",
      " Sensitivity score: 0.0\n",
      " Specificity score: 0.99968671679198\n",
      " Geometric mean score: 0.0\n",
      " Index balanced accuracy: <function make_index_balanced_accuracy.<locals>.decorate at 0x11d1bae60>\n"
     ]
    },
    {
     "name": "stderr",
     "output_type": "stream",
     "text": [
      "/Users/pedro/Library/Python/3.7/lib/python/site-packages/imblearn/utils/_validation.py:638: FutureWarning: Pass alpha=[0 0 0 ... 0 0 0], squared=[0 0 0 ... 0 0 0] as keyword args. From version 0.9 passing these as positional arguments will result in an error\n",
      "  FutureWarning)\n"
     ]
    }
   ],
   "source": [
    "test_size=0.2\n",
    "try:\n",
    "    from imblearn.under_sampling import ClusterCentroids\n",
    "    rebalance_train_test_logreg(X, y, ClusterCentroids(), 'ClusterCentroids',test_size)\n",
    "except:\n",
    "    print(\"Erro!\")\n"
   ],
   "metadata": {
    "collapsed": false,
    "pycharm": {
     "name": "#%%\n"
    }
   }
  },
  {
   "cell_type": "markdown",
   "source": [
    "# CondensedNearestNeighbour"
   ],
   "metadata": {
    "collapsed": false
   }
  },
  {
   "cell_type": "code",
   "execution_count": 43,
   "outputs": [
    {
     "name": "stdout",
     "output_type": "stream",
     "text": [
      "-------------------------------CondensedNearestNeighbour test size=0.2--------------------------------------\n",
      "----------   Standard Metrics   -------------------\n",
      " Accuracy Score: 0.9950109136264421\n",
      " Precision Score: [0.99532127 0.        ]\n",
      " Recall Score: [0.99968672 0.        ]\n",
      "----------   Imbalanced Metrics   -------------------\n",
      " Classification report imbalanced:                    pre       rec       spe        f1       geo       iba       sup\n",
      "\n",
      "          0       1.00      1.00      0.00      1.00      0.00      0.00      3192\n",
      "          1       0.00      0.00      1.00      0.00      0.00      0.00        15\n",
      "\n",
      "avg / total       0.99      1.00      0.00      0.99      0.00      0.00      3207\n",
      "\n",
      " Sensitivity specificity support: (array([0.99968672, 0.        ]), array([0.        , 0.99968672]), array([3192,   15]))\n",
      " Sensitivity score: 0.0\n",
      " Specificity score: 0.99968671679198\n",
      " Geometric mean score: 0.0\n",
      " Index balanced accuracy: <function make_index_balanced_accuracy.<locals>.decorate at 0x1290eb3b0>\n"
     ]
    },
    {
     "name": "stderr",
     "output_type": "stream",
     "text": [
      "/Users/pedro/Library/Python/3.7/lib/python/site-packages/imblearn/utils/_validation.py:638: FutureWarning: Pass alpha=[0 0 0 ... 0 0 0], squared=[0 0 0 ... 0 0 0] as keyword args. From version 0.9 passing these as positional arguments will result in an error\n",
      "  FutureWarning)\n"
     ]
    }
   ],
   "source": [
    "try:\n",
    "    from imblearn.under_sampling import CondensedNearestNeighbour\n",
    "    rebalance_train_test_logreg(X, y, CondensedNearestNeighbour(), 'CondensedNearestNeighbour',test_size)\n",
    "except:\n",
    "    print(\"Erro!\")\n"
   ],
   "metadata": {
    "collapsed": false,
    "pycharm": {
     "name": "#%%\n"
    }
   }
  },
  {
   "cell_type": "markdown",
   "source": [
    "# EditedNearestNeighbours"
   ],
   "metadata": {
    "collapsed": false
   }
  },
  {
   "cell_type": "code",
   "execution_count": 44,
   "outputs": [
    {
     "name": "stdout",
     "output_type": "stream",
     "text": [
      "-------------------------------EditedNearestNeighbours test size=0.2--------------------------------------\n",
      "----------   Standard Metrics   -------------------\n",
      " Accuracy Score: 0.9950109136264421\n",
      " Precision Score: [0.99532127 0.        ]\n",
      " Recall Score: [0.99968672 0.        ]\n",
      "----------   Imbalanced Metrics   -------------------\n",
      " Classification report imbalanced:                    pre       rec       spe        f1       geo       iba       sup\n",
      "\n",
      "          0       1.00      1.00      0.00      1.00      0.00      0.00      3192\n",
      "          1       0.00      0.00      1.00      0.00      0.00      0.00        15\n",
      "\n",
      "avg / total       0.99      1.00      0.00      0.99      0.00      0.00      3207\n",
      "\n",
      " Sensitivity specificity support: (array([0.99968672, 0.        ]), array([0.        , 0.99968672]), array([3192,   15]))\n",
      " Sensitivity score: 0.0\n",
      " Specificity score: 0.99968671679198\n",
      " Geometric mean score: 0.0\n",
      " Index balanced accuracy: <function make_index_balanced_accuracy.<locals>.decorate at 0x1290ebe60>\n"
     ]
    },
    {
     "name": "stderr",
     "output_type": "stream",
     "text": [
      "/Users/pedro/Library/Python/3.7/lib/python/site-packages/imblearn/utils/_validation.py:638: FutureWarning: Pass alpha=[0 0 0 ... 0 0 0], squared=[0 0 0 ... 0 0 0] as keyword args. From version 0.9 passing these as positional arguments will result in an error\n",
      "  FutureWarning)\n"
     ]
    }
   ],
   "source": [
    "try:\n",
    "    from imblearn.under_sampling import EditedNearestNeighbours\n",
    "    rebalance_train_test_logreg(X, y, EditedNearestNeighbours(), 'EditedNearestNeighbours',test_size)\n",
    "except:\n",
    "    print(\"Erro!\")"
   ],
   "metadata": {
    "collapsed": false,
    "pycharm": {
     "name": "#%%\n"
    }
   }
  },
  {
   "cell_type": "markdown",
   "source": [
    "# EditedNearestNeighbours"
   ],
   "metadata": {
    "collapsed": false
   }
  },
  {
   "cell_type": "code",
   "execution_count": 45,
   "outputs": [
    {
     "name": "stdout",
     "output_type": "stream",
     "text": [
      "-------------------------------RepeatedEditedNearestNeighbours test size=0.2--------------------------------------\n",
      "----------   Standard Metrics   -------------------\n",
      " Accuracy Score: 0.9950109136264421\n",
      " Precision Score: [0.99532127 0.        ]\n",
      " Recall Score: [0.99968672 0.        ]\n",
      "----------   Imbalanced Metrics   -------------------\n",
      " Classification report imbalanced:                    pre       rec       spe        f1       geo       iba       sup\n",
      "\n",
      "          0       1.00      1.00      0.00      1.00      0.00      0.00      3192\n",
      "          1       0.00      0.00      1.00      0.00      0.00      0.00        15\n",
      "\n",
      "avg / total       0.99      1.00      0.00      0.99      0.00      0.00      3207\n",
      "\n",
      " Sensitivity specificity support: (array([0.99968672, 0.        ]), array([0.        , 0.99968672]), array([3192,   15]))\n",
      " Sensitivity score: 0.0\n",
      " Specificity score: 0.99968671679198\n",
      " Geometric mean score: 0.0\n",
      " Index balanced accuracy: <function make_index_balanced_accuracy.<locals>.decorate at 0x1290eb950>\n"
     ]
    },
    {
     "name": "stderr",
     "output_type": "stream",
     "text": [
      "/Users/pedro/Library/Python/3.7/lib/python/site-packages/imblearn/utils/_validation.py:638: FutureWarning: Pass alpha=[0 0 0 ... 0 0 0], squared=[0 0 0 ... 0 0 0] as keyword args. From version 0.9 passing these as positional arguments will result in an error\n",
      "  FutureWarning)\n"
     ]
    }
   ],
   "source": [
    "try:\n",
    "    from imblearn.under_sampling import RepeatedEditedNearestNeighbours\n",
    "    rebalance_train_test_logreg(X, y, RepeatedEditedNearestNeighbours(), 'RepeatedEditedNearestNeighbours',test_size)\n",
    "except:\n",
    "    print(\"Erro!\")\n"
   ],
   "metadata": {
    "collapsed": false,
    "pycharm": {
     "name": "#%%\n"
    }
   }
  },
  {
   "cell_type": "markdown",
   "source": [
    "# AllKNN"
   ],
   "metadata": {
    "collapsed": false
   }
  },
  {
   "cell_type": "code",
   "execution_count": 46,
   "outputs": [
    {
     "name": "stdout",
     "output_type": "stream",
     "text": [
      "-------------------------------AllKNN test size=0.2--------------------------------------\n",
      "----------   Standard Metrics   -------------------\n",
      " Accuracy Score: 0.9950109136264421\n",
      " Precision Score: [0.99532127 0.        ]\n",
      " Recall Score: [0.99968672 0.        ]\n",
      "----------   Imbalanced Metrics   -------------------\n",
      " Classification report imbalanced:                    pre       rec       spe        f1       geo       iba       sup\n",
      "\n",
      "          0       1.00      1.00      0.00      1.00      0.00      0.00      3192\n",
      "          1       0.00      0.00      1.00      0.00      0.00      0.00        15\n",
      "\n",
      "avg / total       0.99      1.00      0.00      0.99      0.00      0.00      3207\n",
      "\n",
      " Sensitivity specificity support: (array([0.99968672, 0.        ]), array([0.        , 0.99968672]), array([3192,   15]))\n",
      " Sensitivity score: 0.0\n",
      " Specificity score: 0.99968671679198\n",
      " Geometric mean score: 0.0\n",
      " Index balanced accuracy: <function make_index_balanced_accuracy.<locals>.decorate at 0x1290ebd40>\n"
     ]
    },
    {
     "name": "stderr",
     "output_type": "stream",
     "text": [
      "/Users/pedro/Library/Python/3.7/lib/python/site-packages/imblearn/utils/_validation.py:638: FutureWarning: Pass alpha=[0 0 0 ... 0 0 0], squared=[0 0 0 ... 0 0 0] as keyword args. From version 0.9 passing these as positional arguments will result in an error\n",
      "  FutureWarning)\n"
     ]
    }
   ],
   "source": [
    "try:\n",
    "    from imblearn.under_sampling import AllKNN\n",
    "    rebalance_train_test_logreg(X, y, AllKNN(), 'AllKNN',test_size)\n",
    "except:\n",
    "    print(\"Erro!\")"
   ],
   "metadata": {
    "collapsed": false,
    "pycharm": {
     "name": "#%%\n"
    }
   }
  },
  {
   "cell_type": "markdown",
   "source": [
    "# InstanceHardnessThreshold"
   ],
   "metadata": {
    "collapsed": false
   }
  },
  {
   "cell_type": "code",
   "execution_count": 47,
   "outputs": [
    {
     "name": "stdout",
     "output_type": "stream",
     "text": [
      "-------------------------------InstanceHardnessThreshold test size=0.2--------------------------------------\n",
      "----------   Standard Metrics   -------------------\n",
      " Accuracy Score: 0.9950109136264421\n",
      " Precision Score: [0.99532127 0.        ]\n",
      " Recall Score: [0.99968672 0.        ]\n",
      "----------   Imbalanced Metrics   -------------------\n",
      " Classification report imbalanced:                    pre       rec       spe        f1       geo       iba       sup\n",
      "\n",
      "          0       1.00      1.00      0.00      1.00      0.00      0.00      3192\n",
      "          1       0.00      0.00      1.00      0.00      0.00      0.00        15\n",
      "\n",
      "avg / total       0.99      1.00      0.00      0.99      0.00      0.00      3207\n",
      "\n",
      " Sensitivity specificity support: (array([0.99968672, 0.        ]), array([0.        , 0.99968672]), array([3192,   15]))\n",
      " Sensitivity score: 0.0\n",
      " Specificity score: 0.99968671679198\n",
      " Geometric mean score: 0.0\n",
      " Index balanced accuracy: <function make_index_balanced_accuracy.<locals>.decorate at 0x1290ebef0>\n"
     ]
    },
    {
     "name": "stderr",
     "output_type": "stream",
     "text": [
      "/Users/pedro/Library/Python/3.7/lib/python/site-packages/imblearn/utils/_validation.py:638: FutureWarning: Pass alpha=[0 0 0 ... 0 0 0], squared=[0 0 0 ... 0 0 0] as keyword args. From version 0.9 passing these as positional arguments will result in an error\n",
      "  FutureWarning)\n"
     ]
    }
   ],
   "source": [
    "try:\n",
    "    from imblearn.under_sampling import InstanceHardnessThreshold\n",
    "    rebalance_train_test_logreg(X, y, InstanceHardnessThreshold(), 'InstanceHardnessThreshold',test_size)\n",
    "except:\n",
    "    print(\"Erro!\")\n"
   ],
   "metadata": {
    "collapsed": false,
    "pycharm": {
     "name": "#%%\n"
    }
   }
  },
  {
   "cell_type": "markdown",
   "source": [
    "# NearMiss"
   ],
   "metadata": {
    "collapsed": false
   }
  },
  {
   "cell_type": "code",
   "execution_count": 48,
   "outputs": [
    {
     "name": "stdout",
     "output_type": "stream",
     "text": [
      "-------------------------------NearMiss test size=0.2--------------------------------------\n",
      "----------   Standard Metrics   -------------------\n",
      " Accuracy Score: 0.004989086373557842\n",
      " Precision Score: [1.         0.00467873]\n",
      " Recall Score: [3.13283208e-04 1.00000000e+00]\n",
      "----------   Imbalanced Metrics   -------------------\n",
      " Classification report imbalanced:                    pre       rec       spe        f1       geo       iba       sup\n",
      "\n",
      "          0       1.00      0.00      1.00      0.00      0.02      0.00      3192\n",
      "          1       0.00      1.00      0.00      0.01      0.02      0.00        15\n",
      "\n",
      "avg / total       1.00      0.00      1.00      0.00      0.02      0.00      3207\n",
      "\n",
      " Sensitivity specificity support: (array([3.13283208e-04, 1.00000000e+00]), array([1.00000000e+00, 3.13283208e-04]), array([3192,   15]))\n",
      " Sensitivity score: 1.0\n",
      " Specificity score: 0.0003132832080200501\n",
      " Geometric mean score: 0.017699808135119722\n",
      " Index balanced accuracy: <function make_index_balanced_accuracy.<locals>.decorate at 0x12876f5f0>\n"
     ]
    },
    {
     "name": "stderr",
     "output_type": "stream",
     "text": [
      "/Users/pedro/Library/Python/3.7/lib/python/site-packages/imblearn/utils/_validation.py:638: FutureWarning: Pass alpha=[0 0 0 ... 0 0 0], squared=[1 1 1 ... 1 1 1] as keyword args. From version 0.9 passing these as positional arguments will result in an error\n",
      "  FutureWarning)\n"
     ]
    }
   ],
   "source": [
    "try:\n",
    "    from imblearn.under_sampling import NearMiss\n",
    "    rebalance_train_test_logreg(X, y, NearMiss(), 'NearMiss',test_size)\n",
    "except:\n",
    "    print(\"Erro!\")"
   ],
   "metadata": {
    "collapsed": false,
    "pycharm": {
     "name": "#%%\n"
    }
   }
  },
  {
   "cell_type": "markdown",
   "source": [
    "# NeighbourhoodCleaningRule"
   ],
   "metadata": {
    "collapsed": false
   }
  },
  {
   "cell_type": "code",
   "execution_count": 49,
   "outputs": [
    {
     "name": "stdout",
     "output_type": "stream",
     "text": [
      "-------------------------------NeighbourhoodCleaningRule test size=0.2--------------------------------------\n",
      "----------   Standard Metrics   -------------------\n",
      " Accuracy Score: 0.9950109136264421\n",
      " Precision Score: [0.99532127 0.        ]\n",
      " Recall Score: [0.99968672 0.        ]\n",
      "----------   Imbalanced Metrics   -------------------\n",
      " Classification report imbalanced:                    pre       rec       spe        f1       geo       iba       sup\n",
      "\n",
      "          0       1.00      1.00      0.00      1.00      0.00      0.00      3192\n",
      "          1       0.00      0.00      1.00      0.00      0.00      0.00        15\n",
      "\n",
      "avg / total       0.99      1.00      0.00      0.99      0.00      0.00      3207\n",
      "\n",
      " Sensitivity specificity support: (array([0.99968672, 0.        ]), array([0.        , 0.99968672]), array([3192,   15]))\n",
      " Sensitivity score: 0.0\n",
      " Specificity score: 0.99968671679198\n",
      " Geometric mean score: 0.0\n",
      " Index balanced accuracy: <function make_index_balanced_accuracy.<locals>.decorate at 0x1290eb170>\n"
     ]
    },
    {
     "name": "stderr",
     "output_type": "stream",
     "text": [
      "/Users/pedro/Library/Python/3.7/lib/python/site-packages/imblearn/utils/_validation.py:638: FutureWarning: Pass alpha=[0 0 0 ... 0 0 0], squared=[0 0 0 ... 0 0 0] as keyword args. From version 0.9 passing these as positional arguments will result in an error\n",
      "  FutureWarning)\n"
     ]
    }
   ],
   "source": [
    "try:\n",
    "    from imblearn.under_sampling import NeighbourhoodCleaningRule\n",
    "    rebalance_train_test_logreg(X, y, NeighbourhoodCleaningRule(), 'NeighbourhoodCleaningRule',test_size)\n",
    "except:\n",
    "    print(\"Erro!\")"
   ],
   "metadata": {
    "collapsed": false,
    "pycharm": {
     "name": "#%%\n"
    }
   }
  },
  {
   "cell_type": "markdown",
   "source": [
    "# OneSidedSelection"
   ],
   "metadata": {
    "collapsed": false
   }
  },
  {
   "cell_type": "code",
   "execution_count": 50,
   "outputs": [
    {
     "name": "stdout",
     "output_type": "stream",
     "text": [
      "-------------------------------OneSidedSelection test size=0.2--------------------------------------\n",
      "----------   Standard Metrics   -------------------\n",
      " Accuracy Score: 0.9950109136264421\n",
      " Precision Score: [0.99532127 0.        ]\n",
      " Recall Score: [0.99968672 0.        ]\n",
      "----------   Imbalanced Metrics   -------------------\n",
      " Classification report imbalanced:                    pre       rec       spe        f1       geo       iba       sup\n",
      "\n",
      "          0       1.00      1.00      0.00      1.00      0.00      0.00      3192\n",
      "          1       0.00      0.00      1.00      0.00      0.00      0.00        15\n",
      "\n",
      "avg / total       0.99      1.00      0.00      0.99      0.00      0.00      3207\n",
      "\n",
      " Sensitivity specificity support: (array([0.99968672, 0.        ]), array([0.        , 0.99968672]), array([3192,   15]))\n",
      " Sensitivity score: 0.0\n",
      " Specificity score: 0.99968671679198\n",
      " Geometric mean score: 0.0\n",
      " Index balanced accuracy: <function make_index_balanced_accuracy.<locals>.decorate at 0x128f6a9e0>\n"
     ]
    },
    {
     "name": "stderr",
     "output_type": "stream",
     "text": [
      "/Users/pedro/Library/Python/3.7/lib/python/site-packages/imblearn/utils/_validation.py:638: FutureWarning: Pass alpha=[0 0 0 ... 0 0 0], squared=[0 0 0 ... 0 0 0] as keyword args. From version 0.9 passing these as positional arguments will result in an error\n",
      "  FutureWarning)\n"
     ]
    }
   ],
   "source": [
    "try:\n",
    "    from imblearn.under_sampling import OneSidedSelection\n",
    "    rebalance_train_test_logreg(X, y, OneSidedSelection(), 'OneSidedSelection',test_size)\n",
    "except:\n",
    "    print(\"Erro!\")"
   ],
   "metadata": {
    "collapsed": false,
    "pycharm": {
     "name": "#%%\n"
    }
   }
  },
  {
   "cell_type": "markdown",
   "source": [
    "# RandomUnderSampler"
   ],
   "metadata": {
    "collapsed": false
   }
  },
  {
   "cell_type": "code",
   "execution_count": 51,
   "outputs": [
    {
     "name": "stdout",
     "output_type": "stream",
     "text": [
      "-------------------------------RandomUnderSampler test size=0.2--------------------------------------\n",
      "----------   Standard Metrics   -------------------\n",
      " Accuracy Score: 0.004989086373557842\n",
      " Precision Score: [1.         0.00467873]\n",
      " Recall Score: [3.13283208e-04 1.00000000e+00]\n",
      "----------   Imbalanced Metrics   -------------------\n",
      " Classification report imbalanced:                    pre       rec       spe        f1       geo       iba       sup\n",
      "\n",
      "          0       1.00      0.00      1.00      0.00      0.02      0.00      3192\n",
      "          1       0.00      1.00      0.00      0.01      0.02      0.00        15\n",
      "\n",
      "avg / total       1.00      0.00      1.00      0.00      0.02      0.00      3207\n",
      "\n",
      " Sensitivity specificity support: (array([3.13283208e-04, 1.00000000e+00]), array([1.00000000e+00, 3.13283208e-04]), array([3192,   15]))\n",
      " Sensitivity score: 1.0\n",
      " Specificity score: 0.0003132832080200501\n",
      " Geometric mean score: 0.017699808135119722\n",
      " Index balanced accuracy: <function make_index_balanced_accuracy.<locals>.decorate at 0x128f6ab90>\n"
     ]
    },
    {
     "name": "stderr",
     "output_type": "stream",
     "text": [
      "/Users/pedro/Library/Python/3.7/lib/python/site-packages/imblearn/utils/_validation.py:638: FutureWarning: Pass alpha=[0 0 0 ... 0 0 0], squared=[1 1 1 ... 1 1 1] as keyword args. From version 0.9 passing these as positional arguments will result in an error\n",
      "  FutureWarning)\n"
     ]
    }
   ],
   "source": [
    "try:\n",
    "    from imblearn.under_sampling import RandomUnderSampler\n",
    "    rebalance_train_test_logreg(X, y, RandomUnderSampler(), 'RandomUnderSampler',test_size)\n",
    "except:\n",
    "    print(\"Erro!\")"
   ],
   "metadata": {
    "collapsed": false,
    "pycharm": {
     "name": "#%%\n"
    }
   }
  },
  {
   "cell_type": "markdown",
   "source": [
    "# TomekLinks"
   ],
   "metadata": {
    "collapsed": false
   }
  },
  {
   "cell_type": "code",
   "execution_count": 52,
   "outputs": [
    {
     "name": "stdout",
     "output_type": "stream",
     "text": [
      "-------------------------------TomekLinks test size=0.2--------------------------------------\n",
      "----------   Standard Metrics   -------------------\n",
      " Accuracy Score: 0.9950109136264421\n",
      " Precision Score: [0.99532127 0.        ]\n",
      " Recall Score: [0.99968672 0.        ]\n",
      "----------   Imbalanced Metrics   -------------------\n",
      " Classification report imbalanced:                    pre       rec       spe        f1       geo       iba       sup\n",
      "\n",
      "          0       1.00      1.00      0.00      1.00      0.00      0.00      3192\n",
      "          1       0.00      0.00      1.00      0.00      0.00      0.00        15\n",
      "\n",
      "avg / total       0.99      1.00      0.00      0.99      0.00      0.00      3207\n",
      "\n",
      " Sensitivity specificity support: (array([0.99968672, 0.        ]), array([0.        , 0.99968672]), array([3192,   15]))\n",
      " Sensitivity score: 0.0\n",
      " Specificity score: 0.99968671679198\n",
      " Geometric mean score: 0.0\n",
      " Index balanced accuracy: <function make_index_balanced_accuracy.<locals>.decorate at 0x1290c8560>\n"
     ]
    },
    {
     "name": "stderr",
     "output_type": "stream",
     "text": [
      "/Users/pedro/Library/Python/3.7/lib/python/site-packages/imblearn/utils/_validation.py:638: FutureWarning: Pass alpha=[0 0 0 ... 0 0 0], squared=[0 0 0 ... 0 0 0] as keyword args. From version 0.9 passing these as positional arguments will result in an error\n",
      "  FutureWarning)\n"
     ]
    }
   ],
   "source": [
    "try:\n",
    "    from imblearn.under_sampling import TomekLinks\n",
    "    rebalance_train_test_logreg(X, y, TomekLinks(), 'TomekLinks',test_size)\n",
    "except:\n",
    "    print(\"Erro!\")"
   ],
   "metadata": {
    "collapsed": false,
    "pycharm": {
     "name": "#%%\n"
    }
   }
  },
  {
   "cell_type": "markdown",
   "source": [
    "# ADASYN"
   ],
   "metadata": {
    "collapsed": false
   }
  },
  {
   "cell_type": "code",
   "execution_count": 53,
   "outputs": [
    {
     "name": "stdout",
     "output_type": "stream",
     "text": [
      "-------------------------------ADASYN test size=0.2--------------------------------------\n",
      "----------   Standard Metrics   -------------------\n",
      " Accuracy Score: 0.004989086373557842\n",
      " Precision Score: [1.         0.00467873]\n",
      " Recall Score: [3.13283208e-04 1.00000000e+00]\n",
      "----------   Imbalanced Metrics   -------------------\n",
      " Classification report imbalanced:                    pre       rec       spe        f1       geo       iba       sup\n",
      "\n",
      "          0       1.00      0.00      1.00      0.00      0.02      0.00      3192\n",
      "          1       0.00      1.00      0.00      0.01      0.02      0.00        15\n",
      "\n",
      "avg / total       1.00      0.00      1.00      0.00      0.02      0.00      3207\n",
      "\n",
      " Sensitivity specificity support: (array([3.13283208e-04, 1.00000000e+00]), array([1.00000000e+00, 3.13283208e-04]), array([3192,   15]))\n",
      " Sensitivity score: 1.0\n",
      " Specificity score: 0.0003132832080200501\n",
      " Geometric mean score: 0.017699808135119722\n",
      " Index balanced accuracy: <function make_index_balanced_accuracy.<locals>.decorate at 0x128f6aa70>\n"
     ]
    },
    {
     "name": "stderr",
     "output_type": "stream",
     "text": [
      "/Users/pedro/Library/Python/3.7/lib/python/site-packages/imblearn/utils/_validation.py:638: FutureWarning: Pass alpha=[0 0 0 ... 0 0 0], squared=[1 1 1 ... 1 1 1] as keyword args. From version 0.9 passing these as positional arguments will result in an error\n",
      "  FutureWarning)\n"
     ]
    }
   ],
   "source": [
    "try:\n",
    "    from imblearn.over_sampling import ADASYN\n",
    "    rebalance_train_test_logreg(X, y, ADASYN(), 'ADASYN',test_size)\n",
    "except:\n",
    "    print(\"Erro!\")"
   ],
   "metadata": {
    "collapsed": false,
    "pycharm": {
     "name": "#%%\n"
    }
   }
  },
  {
   "cell_type": "markdown",
   "source": [
    "# BorderlineSMOTE"
   ],
   "metadata": {
    "collapsed": false
   }
  },
  {
   "cell_type": "code",
   "execution_count": 54,
   "outputs": [
    {
     "name": "stdout",
     "output_type": "stream",
     "text": [
      "-------------------------------BorderlineSMOTE test size=0.2--------------------------------------\n",
      "----------   Standard Metrics   -------------------\n",
      " Accuracy Score: 0.004989086373557842\n",
      " Precision Score: [1.         0.00467873]\n",
      " Recall Score: [3.13283208e-04 1.00000000e+00]\n",
      "----------   Imbalanced Metrics   -------------------\n",
      " Classification report imbalanced:                    pre       rec       spe        f1       geo       iba       sup\n",
      "\n",
      "          0       1.00      0.00      1.00      0.00      0.02      0.00      3192\n",
      "          1       0.00      1.00      0.00      0.01      0.02      0.00        15\n",
      "\n",
      "avg / total       1.00      0.00      1.00      0.00      0.02      0.00      3207\n",
      "\n",
      " Sensitivity specificity support: (array([3.13283208e-04, 1.00000000e+00]), array([1.00000000e+00, 3.13283208e-04]), array([3192,   15]))\n",
      " Sensitivity score: 1.0\n",
      " Specificity score: 0.0003132832080200501\n",
      " Geometric mean score: 0.017699808135119722\n",
      " Index balanced accuracy: <function make_index_balanced_accuracy.<locals>.decorate at 0x1290e35f0>\n"
     ]
    },
    {
     "name": "stderr",
     "output_type": "stream",
     "text": [
      "/Users/pedro/Library/Python/3.7/lib/python/site-packages/imblearn/utils/_validation.py:638: FutureWarning: Pass alpha=[0 0 0 ... 0 0 0], squared=[1 1 1 ... 1 1 1] as keyword args. From version 0.9 passing these as positional arguments will result in an error\n",
      "  FutureWarning)\n"
     ]
    }
   ],
   "source": [
    "try:\n",
    "    from imblearn.over_sampling import BorderlineSMOTE\n",
    "    rebalance_train_test_logreg(X, y, BorderlineSMOTE(), 'BorderlineSMOTE',test_size)\n",
    "except:\n",
    "    print(\"Erro!\")"
   ],
   "metadata": {
    "collapsed": false,
    "pycharm": {
     "name": "#%%\n"
    }
   }
  },
  {
   "cell_type": "markdown",
   "source": [
    "# KMeansSMOTE"
   ],
   "metadata": {
    "collapsed": false
   }
  },
  {
   "cell_type": "code",
   "execution_count": 58,
   "outputs": [
    {
     "name": "stdout",
     "output_type": "stream",
     "text": [
      "Erro!\n"
     ]
    }
   ],
   "source": [
    "try:\n",
    "    from imblearn.over_sampling import KMeansSMOTE\n",
    "    rebalance_train_test_logreg(X, y, KMeansSMOTE(), 'KMeansSMOTE',test_size)\n",
    "except:\n",
    "    print(\"Erro!\")"
   ],
   "metadata": {
    "collapsed": false,
    "pycharm": {
     "name": "#%%\n"
    }
   }
  },
  {
   "cell_type": "markdown",
   "source": [
    "# RandomOverSampler"
   ],
   "metadata": {
    "collapsed": false
   }
  },
  {
   "cell_type": "code",
   "execution_count": null,
   "outputs": [],
   "source": [
    "try:\n",
    "    from imblearn.over_sampling import RandomOverSampler\n",
    "    rebalance_train_test_logreg(X, y, RandomOverSampler(), 'RandomOverSampler',test_size)\n",
    "except:\n",
    "    print(\"Erro!\")"
   ],
   "metadata": {
    "collapsed": false,
    "pycharm": {
     "name": "#%%\n"
    }
   }
  },
  {
   "cell_type": "markdown",
   "source": [
    "# SMOTE"
   ],
   "metadata": {
    "collapsed": false
   }
  },
  {
   "cell_type": "code",
   "execution_count": null,
   "outputs": [],
   "source": [
    "try:\n",
    "    from imblearn.over_sampling import SMOTE\n",
    "    rebalance_train_test_logreg(X, y, SMOTE(), 'SMOTE',test_size)\n",
    "except:\n",
    "    print(\"Erro!\")"
   ],
   "metadata": {
    "collapsed": false,
    "pycharm": {
     "name": "#%%\n"
    }
   }
  },
  {
   "cell_type": "markdown",
   "source": [
    "# SMOTENC"
   ],
   "metadata": {
    "collapsed": false
   }
  },
  {
   "cell_type": "code",
   "execution_count": null,
   "outputs": [],
   "source": [
    "try:\n",
    "    from imblearn.over_sampling import SMOTENC\n",
    "    rebalance_train_test_logreg(X, y, SMOTENC(), 'SMOTENC',test_size)\n",
    "except:\n",
    "    print(\"Erro!\")"
   ],
   "metadata": {
    "collapsed": false,
    "pycharm": {
     "name": "#%%\n"
    }
   }
  },
  {
   "cell_type": "markdown",
   "source": [
    "# SVMSMOTE"
   ],
   "metadata": {
    "collapsed": false
   }
  },
  {
   "cell_type": "code",
   "execution_count": null,
   "outputs": [],
   "source": [
    "try:\n",
    "    from imblearn.over_sampling import SVMSMOTE\n",
    "    rebalance_train_test_logreg(X, y, SVMSMOTE(), 'SVMSMOTE',test_size)\n",
    "except:\n",
    "    print(\"Erro!\")"
   ],
   "metadata": {
    "collapsed": false,
    "pycharm": {
     "name": "#%%\n"
    }
   }
  },
  {
   "cell_type": "markdown",
   "source": [
    "# SMOTEENN"
   ],
   "metadata": {
    "collapsed": false
   }
  },
  {
   "cell_type": "code",
   "execution_count": null,
   "outputs": [],
   "source": [
    "try:\n",
    "    from imblearn.combine import SMOTEENN\n",
    "    rebalance_train_test_logreg(X, y, SMOTEENN(), 'SMOTEENN',test_size)\n",
    "except:\n",
    "    print(\"Erro!\")"
   ],
   "metadata": {
    "collapsed": false,
    "pycharm": {
     "name": "#%%\n"
    }
   }
  },
  {
   "cell_type": "markdown",
   "source": [
    "# SMOTETomek"
   ],
   "metadata": {
    "collapsed": false
   }
  },
  {
   "cell_type": "code",
   "execution_count": null,
   "outputs": [],
   "source": [
    "try:\n",
    "    from imblearn.combine import SMOTETomek\n",
    "    rebalance_train_test_logreg(X, y, SMOTETomek(), 'SMOTETomek',test_size)\n",
    "except:\n",
    "    print(\"Erro!\")\n"
   ],
   "metadata": {
    "collapsed": false,
    "pycharm": {
     "name": "#%%\n"
    }
   }
  },
  {
   "cell_type": "markdown",
   "source": [
    "# BalancedBaggingClassifier"
   ],
   "metadata": {
    "collapsed": false
   }
  },
  {
   "cell_type": "code",
   "execution_count": null,
   "outputs": [],
   "source": [
    "try:\n",
    "    from imblearn.ensemble import BalancedBaggingClassifier\n",
    "    rebalance_train_test_logreg(X, y, BalancedBaggingClassifier(), 'BalancedBaggingClassifier',test_size)\n",
    "except:\n",
    "    print(\"Erro!\")"
   ],
   "metadata": {
    "collapsed": false,
    "pycharm": {
     "name": "#%%\n"
    }
   }
  },
  {
   "cell_type": "markdown",
   "source": [
    "# BalancedRandomForestClassifier"
   ],
   "metadata": {
    "collapsed": false
   }
  },
  {
   "cell_type": "code",
   "execution_count": null,
   "outputs": [],
   "source": [
    "try:\n",
    "    from imblearn.ensemble import BalancedRandomForestClassifier\n",
    "    rebalance_train_test_logreg(X, y, BalancedRandomForestClassifier(), 'BalancedRandomForestClassifier',test_size)\n",
    "except:\n",
    "    print(\"Erro!\")"
   ],
   "metadata": {
    "collapsed": false,
    "pycharm": {
     "name": "#%%\n"
    }
   }
  },
  {
   "cell_type": "markdown",
   "source": [
    "# EasyEnsemble"
   ],
   "metadata": {
    "collapsed": false
   }
  },
  {
   "cell_type": "code",
   "execution_count": null,
   "outputs": [],
   "source": [
    "try:\n",
    "    from imblearn.ensemble import EasyEnsembleClassifier\n",
    "    rebalance_train_test_logreg(X, y, EasyEnsembleClassifier(), 'EasyEnsembleClassifier',test_size)\n",
    "except:\n",
    "    print(\"Erro!\")"
   ],
   "metadata": {
    "collapsed": false,
    "pycharm": {
     "name": "#%%\n"
    }
   }
  },
  {
   "cell_type": "markdown",
   "source": [
    "# RUSBoostClassifier"
   ],
   "metadata": {
    "collapsed": false
   }
  },
  {
   "cell_type": "code",
   "execution_count": null,
   "outputs": [],
   "source": [
    "try:\n",
    "    from imblearn.ensemble import RUSBoostClassifier\n",
    "    rebalance_train_test_logreg(X, y, RUSBoostClassifier(), 'RUSBoostClassifier',test_size)\n",
    "except:\n",
    "    print(\"Erro!\")\n"
   ],
   "metadata": {
    "collapsed": false,
    "pycharm": {
     "name": "#%%\n"
    }
   }
  },
  {
   "cell_type": "markdown",
   "source": [
    "# RUSBoostClassifier"
   ],
   "metadata": {
    "collapsed": false
   }
  },
  {
   "cell_type": "code",
   "execution_count": null,
   "outputs": [],
   "source": [
    "try:\n",
    "    from imblearn.ensemble import RUSBoostClassifier\n",
    "    rebalance_train_test_logreg(X, y, RUSBoostClassifier(), 'RUSBoostClassifier',test_size)\n",
    "except:\n",
    "    print(\"Erro!\")\n"
   ],
   "metadata": {
    "collapsed": false,
    "pycharm": {
     "name": "#%%\n"
    }
   }
  }
 ],
 "metadata": {
  "kernelspec": {
   "display_name": "Python 3",
   "language": "python",
   "name": "python3"
  },
  "language_info": {
   "codemirror_mode": {
    "name": "ipython",
    "version": 2
   },
   "file_extension": ".py",
   "mimetype": "text/x-python",
   "name": "python",
   "nbconvert_exporter": "python",
   "pygments_lexer": "ipython2",
   "version": "2.7.6"
  },
  "pycharm": {
   "stem_cell": {
    "cell_type": "raw",
    "source": [
     "\n"
    ],
    "metadata": {
     "collapsed": false
    }
   }
  }
 },
 "nbformat": 4,
 "nbformat_minor": 0
}